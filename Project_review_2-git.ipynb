{
 "cells": [
  {
   "cell_type": "markdown",
   "id": "f89abf66",
   "metadata": {},
   "source": [
    "## Project.2 Исследование надёжности заёмщиков\n",
    "\n",
    "    (yandex_practicum by student@pavel_matushevskiy, Volgograd 2022)\n"
   ]
  },
  {
   "cell_type": "markdown",
   "id": "ea0c426f",
   "metadata": {},
   "source": [
    "### Описание проекта\n",
    "\n",
    "Заказчик — кредитный отдел банка. Нужно разобраться, влияет ли семейное положение и количество детей клиента на факт погашения кредита в срок. Входные данные от банка — статистика о платёжеспособности клиентов.\n",
    "Результаты исследования будут учтены при построении модели кредитного скоринга — специальной системы, которая оценивает способность потенциального заёмщика вернуть кредит банку."
   ]
  },
  {
   "cell_type": "markdown",
   "id": "77f03d1e",
   "metadata": {},
   "source": [
    "### Описание данных\n",
    "\n",
    "children — количество детей в семье\n",
    "\n",
    "days_employed — общий трудовой стаж в днях\n",
    "\n",
    "dob_years — возраст клиента в годах\n",
    "\n",
    "education — уровень образования клиента\n",
    "\n",
    "education_id — идентификатор уровня образования\n",
    "\n",
    "family_status — семейное положение\n",
    "\n",
    "family_status_id — идентификатор семейного положения\n",
    "\n",
    "gender — пол клиента\n",
    "\n",
    "income_type — тип занятости\n",
    "\n",
    "debt — имел ли задолженность по возврату кредитов\n",
    "\n",
    "total_income — ежемесячный доход\n",
    "\n",
    "purpose — цель получения кредита"
   ]
  },
  {
   "cell_type": "markdown",
   "id": "1d000d99",
   "metadata": {},
   "source": [
    " ### Импорт библиотек"
   ]
  },
  {
   "cell_type": "code",
   "execution_count": 1,
   "id": "529431eb",
   "metadata": {
    "ExecuteTime": {
     "end_time": "2022-10-02T16:09:12.087816Z",
     "start_time": "2022-10-02T16:09:10.842201Z"
    }
   },
   "outputs": [],
   "source": [
    "# подгрузим необходимые для работы библиотеки\n",
    "import math\n",
    "import pandas as pd\n",
    "from pymystem3 import Mystem"
   ]
  },
  {
   "cell_type": "markdown",
   "id": "701287f1",
   "metadata": {},
   "source": [
    "### Шаг 1. Импорт данных"
   ]
  },
  {
   "cell_type": "code",
   "execution_count": 2,
   "id": "d4ce2aa8",
   "metadata": {
    "ExecuteTime": {
     "end_time": "2022-10-02T16:09:18.489195Z",
     "start_time": "2022-10-02T16:09:18.413336Z"
    }
   },
   "outputs": [
    {
     "data": {
      "text/html": [
       "<div>\n",
       "<style scoped>\n",
       "    .dataframe tbody tr th:only-of-type {\n",
       "        vertical-align: middle;\n",
       "    }\n",
       "\n",
       "    .dataframe tbody tr th {\n",
       "        vertical-align: top;\n",
       "    }\n",
       "\n",
       "    .dataframe thead th {\n",
       "        text-align: right;\n",
       "    }\n",
       "</style>\n",
       "<table border=\"1\" class=\"dataframe\">\n",
       "  <thead>\n",
       "    <tr style=\"text-align: right;\">\n",
       "      <th></th>\n",
       "      <th>children</th>\n",
       "      <th>days_employed</th>\n",
       "      <th>dob_years</th>\n",
       "      <th>education</th>\n",
       "      <th>education_id</th>\n",
       "      <th>family_status</th>\n",
       "      <th>family_status_id</th>\n",
       "      <th>gender</th>\n",
       "      <th>income_type</th>\n",
       "      <th>debt</th>\n",
       "      <th>total_income</th>\n",
       "      <th>purpose</th>\n",
       "    </tr>\n",
       "  </thead>\n",
       "  <tbody>\n",
       "    <tr>\n",
       "      <th>0</th>\n",
       "      <td>1</td>\n",
       "      <td>-8437.673028</td>\n",
       "      <td>42</td>\n",
       "      <td>высшее</td>\n",
       "      <td>0</td>\n",
       "      <td>женат / замужем</td>\n",
       "      <td>0</td>\n",
       "      <td>F</td>\n",
       "      <td>сотрудник</td>\n",
       "      <td>0</td>\n",
       "      <td>253875.639453</td>\n",
       "      <td>покупка жилья</td>\n",
       "    </tr>\n",
       "    <tr>\n",
       "      <th>1</th>\n",
       "      <td>1</td>\n",
       "      <td>-4024.803754</td>\n",
       "      <td>36</td>\n",
       "      <td>среднее</td>\n",
       "      <td>1</td>\n",
       "      <td>женат / замужем</td>\n",
       "      <td>0</td>\n",
       "      <td>F</td>\n",
       "      <td>сотрудник</td>\n",
       "      <td>0</td>\n",
       "      <td>112080.014102</td>\n",
       "      <td>приобретение автомобиля</td>\n",
       "    </tr>\n",
       "    <tr>\n",
       "      <th>2</th>\n",
       "      <td>0</td>\n",
       "      <td>-5623.422610</td>\n",
       "      <td>33</td>\n",
       "      <td>Среднее</td>\n",
       "      <td>1</td>\n",
       "      <td>женат / замужем</td>\n",
       "      <td>0</td>\n",
       "      <td>M</td>\n",
       "      <td>сотрудник</td>\n",
       "      <td>0</td>\n",
       "      <td>145885.952297</td>\n",
       "      <td>покупка жилья</td>\n",
       "    </tr>\n",
       "    <tr>\n",
       "      <th>3</th>\n",
       "      <td>3</td>\n",
       "      <td>-4124.747207</td>\n",
       "      <td>32</td>\n",
       "      <td>среднее</td>\n",
       "      <td>1</td>\n",
       "      <td>женат / замужем</td>\n",
       "      <td>0</td>\n",
       "      <td>M</td>\n",
       "      <td>сотрудник</td>\n",
       "      <td>0</td>\n",
       "      <td>267628.550329</td>\n",
       "      <td>дополнительное образование</td>\n",
       "    </tr>\n",
       "    <tr>\n",
       "      <th>4</th>\n",
       "      <td>0</td>\n",
       "      <td>340266.072047</td>\n",
       "      <td>53</td>\n",
       "      <td>среднее</td>\n",
       "      <td>1</td>\n",
       "      <td>гражданский брак</td>\n",
       "      <td>1</td>\n",
       "      <td>F</td>\n",
       "      <td>пенсионер</td>\n",
       "      <td>0</td>\n",
       "      <td>158616.077870</td>\n",
       "      <td>сыграть свадьбу</td>\n",
       "    </tr>\n",
       "    <tr>\n",
       "      <th>5</th>\n",
       "      <td>0</td>\n",
       "      <td>-926.185831</td>\n",
       "      <td>27</td>\n",
       "      <td>высшее</td>\n",
       "      <td>0</td>\n",
       "      <td>гражданский брак</td>\n",
       "      <td>1</td>\n",
       "      <td>M</td>\n",
       "      <td>компаньон</td>\n",
       "      <td>0</td>\n",
       "      <td>255763.565419</td>\n",
       "      <td>покупка жилья</td>\n",
       "    </tr>\n",
       "    <tr>\n",
       "      <th>6</th>\n",
       "      <td>0</td>\n",
       "      <td>-2879.202052</td>\n",
       "      <td>43</td>\n",
       "      <td>высшее</td>\n",
       "      <td>0</td>\n",
       "      <td>женат / замужем</td>\n",
       "      <td>0</td>\n",
       "      <td>F</td>\n",
       "      <td>компаньон</td>\n",
       "      <td>0</td>\n",
       "      <td>240525.971920</td>\n",
       "      <td>операции с жильем</td>\n",
       "    </tr>\n",
       "    <tr>\n",
       "      <th>7</th>\n",
       "      <td>0</td>\n",
       "      <td>-152.779569</td>\n",
       "      <td>50</td>\n",
       "      <td>СРЕДНЕЕ</td>\n",
       "      <td>1</td>\n",
       "      <td>женат / замужем</td>\n",
       "      <td>0</td>\n",
       "      <td>M</td>\n",
       "      <td>сотрудник</td>\n",
       "      <td>0</td>\n",
       "      <td>135823.934197</td>\n",
       "      <td>образование</td>\n",
       "    </tr>\n",
       "    <tr>\n",
       "      <th>8</th>\n",
       "      <td>2</td>\n",
       "      <td>-6929.865299</td>\n",
       "      <td>35</td>\n",
       "      <td>ВЫСШЕЕ</td>\n",
       "      <td>0</td>\n",
       "      <td>гражданский брак</td>\n",
       "      <td>1</td>\n",
       "      <td>F</td>\n",
       "      <td>сотрудник</td>\n",
       "      <td>0</td>\n",
       "      <td>95856.832424</td>\n",
       "      <td>на проведение свадьбы</td>\n",
       "    </tr>\n",
       "    <tr>\n",
       "      <th>9</th>\n",
       "      <td>0</td>\n",
       "      <td>-2188.756445</td>\n",
       "      <td>41</td>\n",
       "      <td>среднее</td>\n",
       "      <td>1</td>\n",
       "      <td>женат / замужем</td>\n",
       "      <td>0</td>\n",
       "      <td>M</td>\n",
       "      <td>сотрудник</td>\n",
       "      <td>0</td>\n",
       "      <td>144425.938277</td>\n",
       "      <td>покупка жилья для семьи</td>\n",
       "    </tr>\n",
       "  </tbody>\n",
       "</table>\n",
       "</div>"
      ],
      "text/plain": [
       "   children  days_employed  dob_years education  education_id  \\\n",
       "0         1   -8437.673028         42    высшее             0   \n",
       "1         1   -4024.803754         36   среднее             1   \n",
       "2         0   -5623.422610         33   Среднее             1   \n",
       "3         3   -4124.747207         32   среднее             1   \n",
       "4         0  340266.072047         53   среднее             1   \n",
       "5         0    -926.185831         27    высшее             0   \n",
       "6         0   -2879.202052         43    высшее             0   \n",
       "7         0    -152.779569         50   СРЕДНЕЕ             1   \n",
       "8         2   -6929.865299         35    ВЫСШЕЕ             0   \n",
       "9         0   -2188.756445         41   среднее             1   \n",
       "\n",
       "      family_status  family_status_id gender income_type  debt   total_income  \\\n",
       "0   женат / замужем                 0      F   сотрудник     0  253875.639453   \n",
       "1   женат / замужем                 0      F   сотрудник     0  112080.014102   \n",
       "2   женат / замужем                 0      M   сотрудник     0  145885.952297   \n",
       "3   женат / замужем                 0      M   сотрудник     0  267628.550329   \n",
       "4  гражданский брак                 1      F   пенсионер     0  158616.077870   \n",
       "5  гражданский брак                 1      M   компаньон     0  255763.565419   \n",
       "6   женат / замужем                 0      F   компаньон     0  240525.971920   \n",
       "7   женат / замужем                 0      M   сотрудник     0  135823.934197   \n",
       "8  гражданский брак                 1      F   сотрудник     0   95856.832424   \n",
       "9   женат / замужем                 0      M   сотрудник     0  144425.938277   \n",
       "\n",
       "                      purpose  \n",
       "0               покупка жилья  \n",
       "1     приобретение автомобиля  \n",
       "2               покупка жилья  \n",
       "3  дополнительное образование  \n",
       "4             сыграть свадьбу  \n",
       "5               покупка жилья  \n",
       "6           операции с жильем  \n",
       "7                 образование  \n",
       "8       на проведение свадьбы  \n",
       "9     покупка жилья для семьи  "
      ]
     },
     "execution_count": 2,
     "metadata": {},
     "output_type": "execute_result"
    }
   ],
   "source": [
    "df = pd.read_csv(\"data.csv\")\n",
    "#df = pd.read_csv(\"/datasets/data.csv\")\n",
    "df.head(10)"
   ]
  },
  {
   "cell_type": "code",
   "execution_count": 3,
   "id": "4b00cdb4",
   "metadata": {
    "ExecuteTime": {
     "end_time": "2022-10-02T16:09:28.089591Z",
     "start_time": "2022-10-02T16:09:28.053242Z"
    }
   },
   "outputs": [
    {
     "name": "stdout",
     "output_type": "stream",
     "text": [
      "<class 'pandas.core.frame.DataFrame'>\n",
      "RangeIndex: 21525 entries, 0 to 21524\n",
      "Data columns (total 12 columns):\n",
      " #   Column            Non-Null Count  Dtype  \n",
      "---  ------            --------------  -----  \n",
      " 0   children          21525 non-null  int64  \n",
      " 1   days_employed     19351 non-null  float64\n",
      " 2   dob_years         21525 non-null  int64  \n",
      " 3   education         21525 non-null  object \n",
      " 4   education_id      21525 non-null  int64  \n",
      " 5   family_status     21525 non-null  object \n",
      " 6   family_status_id  21525 non-null  int64  \n",
      " 7   gender            21525 non-null  object \n",
      " 8   income_type       21525 non-null  object \n",
      " 9   debt              21525 non-null  int64  \n",
      " 10  total_income      19351 non-null  float64\n",
      " 11  purpose           21525 non-null  object \n",
      "dtypes: float64(2), int64(5), object(5)\n",
      "memory usage: 2.0+ MB\n"
     ]
    }
   ],
   "source": [
    "df.info()"
   ]
  },
  {
   "cell_type": "code",
   "execution_count": 4,
   "id": "bd90356a",
   "metadata": {
    "ExecuteTime": {
     "end_time": "2022-10-02T16:09:29.390298Z",
     "start_time": "2022-10-02T16:09:29.349980Z"
    }
   },
   "outputs": [
    {
     "data": {
      "text/html": [
       "<div>\n",
       "<style scoped>\n",
       "    .dataframe tbody tr th:only-of-type {\n",
       "        vertical-align: middle;\n",
       "    }\n",
       "\n",
       "    .dataframe tbody tr th {\n",
       "        vertical-align: top;\n",
       "    }\n",
       "\n",
       "    .dataframe thead th {\n",
       "        text-align: right;\n",
       "    }\n",
       "</style>\n",
       "<table border=\"1\" class=\"dataframe\">\n",
       "  <thead>\n",
       "    <tr style=\"text-align: right;\">\n",
       "      <th></th>\n",
       "      <th>children</th>\n",
       "      <th>days_employed</th>\n",
       "      <th>dob_years</th>\n",
       "      <th>education_id</th>\n",
       "      <th>family_status_id</th>\n",
       "      <th>debt</th>\n",
       "      <th>total_income</th>\n",
       "    </tr>\n",
       "  </thead>\n",
       "  <tbody>\n",
       "    <tr>\n",
       "      <th>count</th>\n",
       "      <td>21525.000000</td>\n",
       "      <td>19351.000000</td>\n",
       "      <td>21525.000000</td>\n",
       "      <td>21525.000000</td>\n",
       "      <td>21525.000000</td>\n",
       "      <td>21525.000000</td>\n",
       "      <td>1.935100e+04</td>\n",
       "    </tr>\n",
       "    <tr>\n",
       "      <th>mean</th>\n",
       "      <td>0.538908</td>\n",
       "      <td>63046.497661</td>\n",
       "      <td>43.293380</td>\n",
       "      <td>0.817236</td>\n",
       "      <td>0.972544</td>\n",
       "      <td>0.080883</td>\n",
       "      <td>1.674223e+05</td>\n",
       "    </tr>\n",
       "    <tr>\n",
       "      <th>std</th>\n",
       "      <td>1.381587</td>\n",
       "      <td>140827.311974</td>\n",
       "      <td>12.574584</td>\n",
       "      <td>0.548138</td>\n",
       "      <td>1.420324</td>\n",
       "      <td>0.272661</td>\n",
       "      <td>1.029716e+05</td>\n",
       "    </tr>\n",
       "    <tr>\n",
       "      <th>min</th>\n",
       "      <td>-1.000000</td>\n",
       "      <td>-18388.949901</td>\n",
       "      <td>0.000000</td>\n",
       "      <td>0.000000</td>\n",
       "      <td>0.000000</td>\n",
       "      <td>0.000000</td>\n",
       "      <td>2.066726e+04</td>\n",
       "    </tr>\n",
       "    <tr>\n",
       "      <th>25%</th>\n",
       "      <td>0.000000</td>\n",
       "      <td>-2747.423625</td>\n",
       "      <td>33.000000</td>\n",
       "      <td>1.000000</td>\n",
       "      <td>0.000000</td>\n",
       "      <td>0.000000</td>\n",
       "      <td>1.030532e+05</td>\n",
       "    </tr>\n",
       "    <tr>\n",
       "      <th>50%</th>\n",
       "      <td>0.000000</td>\n",
       "      <td>-1203.369529</td>\n",
       "      <td>42.000000</td>\n",
       "      <td>1.000000</td>\n",
       "      <td>0.000000</td>\n",
       "      <td>0.000000</td>\n",
       "      <td>1.450179e+05</td>\n",
       "    </tr>\n",
       "    <tr>\n",
       "      <th>75%</th>\n",
       "      <td>1.000000</td>\n",
       "      <td>-291.095954</td>\n",
       "      <td>53.000000</td>\n",
       "      <td>1.000000</td>\n",
       "      <td>1.000000</td>\n",
       "      <td>0.000000</td>\n",
       "      <td>2.034351e+05</td>\n",
       "    </tr>\n",
       "    <tr>\n",
       "      <th>max</th>\n",
       "      <td>20.000000</td>\n",
       "      <td>401755.400475</td>\n",
       "      <td>75.000000</td>\n",
       "      <td>4.000000</td>\n",
       "      <td>4.000000</td>\n",
       "      <td>1.000000</td>\n",
       "      <td>2.265604e+06</td>\n",
       "    </tr>\n",
       "  </tbody>\n",
       "</table>\n",
       "</div>"
      ],
      "text/plain": [
       "           children  days_employed     dob_years  education_id  \\\n",
       "count  21525.000000   19351.000000  21525.000000  21525.000000   \n",
       "mean       0.538908   63046.497661     43.293380      0.817236   \n",
       "std        1.381587  140827.311974     12.574584      0.548138   \n",
       "min       -1.000000  -18388.949901      0.000000      0.000000   \n",
       "25%        0.000000   -2747.423625     33.000000      1.000000   \n",
       "50%        0.000000   -1203.369529     42.000000      1.000000   \n",
       "75%        1.000000    -291.095954     53.000000      1.000000   \n",
       "max       20.000000  401755.400475     75.000000      4.000000   \n",
       "\n",
       "       family_status_id          debt  total_income  \n",
       "count      21525.000000  21525.000000  1.935100e+04  \n",
       "mean           0.972544      0.080883  1.674223e+05  \n",
       "std            1.420324      0.272661  1.029716e+05  \n",
       "min            0.000000      0.000000  2.066726e+04  \n",
       "25%            0.000000      0.000000  1.030532e+05  \n",
       "50%            0.000000      0.000000  1.450179e+05  \n",
       "75%            1.000000      0.000000  2.034351e+05  \n",
       "max            4.000000      1.000000  2.265604e+06  "
      ]
     },
     "execution_count": 4,
     "metadata": {},
     "output_type": "execute_result"
    }
   ],
   "source": [
    "df.describe()"
   ]
  },
  {
   "cell_type": "markdown",
   "id": "e767af95",
   "metadata": {
    "ExecuteTime": {
     "end_time": "2022-03-04T12:26:24.834945Z",
     "start_time": "2022-03-04T12:26:24.828813Z"
    }
   },
   "source": [
    "### Наблюдения:\n",
    "\n",
    "Данные загружены и первично изучены. \n",
    "\n",
    "С колонкой  <b>days_employed</b> явно что-то не так: есть отрицательные значения и категория float, \n",
    "хотя дни должны быть целыми.\n",
    "Что касается отрицательных значений - возможно ошибка возникает при передаче данных и минус \n",
    "просто надо убрать. Проверим позже.\n",
    "\n",
    "В столбце  <b>education</b> регистр букв разных размеров, надо привести к единому регистру. \n",
    "Можно принудительно \"понизить\" регистр и во всех остальных категориальных столбцах (на всякий случай).\n",
    "\n",
    "Доход  <b>total_income</b> почему то данные с точностью до копейки. Хотя вряд ли клиенты так передали данные, и вряд ли нам нужны копейки для расчетов. Можно перевести в целое число int.\n",
    "\n",
    "Признак <b>children</b> ошибочно содержит также отрицательные значения, с этим надо разобраться. \n",
    "\n"
   ]
  },
  {
   "cell_type": "markdown",
   "id": "f8c25fd8",
   "metadata": {},
   "source": [
    "### Шаг 2. Предобработка данных."
   ]
  },
  {
   "cell_type": "markdown",
   "id": "a7b622b5",
   "metadata": {
    "ExecuteTime": {
     "end_time": "2022-03-04T12:54:12.806989Z",
     "start_time": "2022-03-04T12:54:12.804647Z"
    }
   },
   "source": [
    "#### 2.1. Обработка названия столбцов и данных."
   ]
  },
  {
   "cell_type": "markdown",
   "id": "040df1e7",
   "metadata": {
    "ExecuteTime": {
     "end_time": "2022-03-04T13:32:28.055580Z",
     "start_time": "2022-03-04T13:32:28.053382Z"
    }
   },
   "source": [
    "Названия столбцов в целом корректные, разве что можно было бы изменить названия для лучшего понимания"
   ]
  },
  {
   "cell_type": "code",
   "execution_count": 5,
   "id": "c1f9b72a",
   "metadata": {
    "ExecuteTime": {
     "end_time": "2022-10-02T16:09:37.506384Z",
     "start_time": "2022-10-02T16:09:37.456341Z"
    }
   },
   "outputs": [
    {
     "data": {
      "text/html": [
       "<div>\n",
       "<style scoped>\n",
       "    .dataframe tbody tr th:only-of-type {\n",
       "        vertical-align: middle;\n",
       "    }\n",
       "\n",
       "    .dataframe tbody tr th {\n",
       "        vertical-align: top;\n",
       "    }\n",
       "\n",
       "    .dataframe thead th {\n",
       "        text-align: right;\n",
       "    }\n",
       "</style>\n",
       "<table border=\"1\" class=\"dataframe\">\n",
       "  <thead>\n",
       "    <tr style=\"text-align: right;\">\n",
       "      <th></th>\n",
       "      <th>children</th>\n",
       "      <th>days_employed</th>\n",
       "      <th>dob_years</th>\n",
       "      <th>education</th>\n",
       "      <th>education_id</th>\n",
       "      <th>family_status</th>\n",
       "      <th>family_status_id</th>\n",
       "      <th>gender</th>\n",
       "      <th>income_type</th>\n",
       "      <th>debt</th>\n",
       "      <th>total_income</th>\n",
       "      <th>purpose</th>\n",
       "    </tr>\n",
       "  </thead>\n",
       "  <tbody>\n",
       "    <tr>\n",
       "      <th>0</th>\n",
       "      <td>1</td>\n",
       "      <td>-8437.673028</td>\n",
       "      <td>42</td>\n",
       "      <td>высшее</td>\n",
       "      <td>0</td>\n",
       "      <td>женат / замужем</td>\n",
       "      <td>0</td>\n",
       "      <td>F</td>\n",
       "      <td>сотрудник</td>\n",
       "      <td>0</td>\n",
       "      <td>253875.639453</td>\n",
       "      <td>покупка жилья</td>\n",
       "    </tr>\n",
       "    <tr>\n",
       "      <th>1</th>\n",
       "      <td>1</td>\n",
       "      <td>-4024.803754</td>\n",
       "      <td>36</td>\n",
       "      <td>среднее</td>\n",
       "      <td>1</td>\n",
       "      <td>женат / замужем</td>\n",
       "      <td>0</td>\n",
       "      <td>F</td>\n",
       "      <td>сотрудник</td>\n",
       "      <td>0</td>\n",
       "      <td>112080.014102</td>\n",
       "      <td>приобретение автомобиля</td>\n",
       "    </tr>\n",
       "    <tr>\n",
       "      <th>2</th>\n",
       "      <td>0</td>\n",
       "      <td>-5623.422610</td>\n",
       "      <td>33</td>\n",
       "      <td>среднее</td>\n",
       "      <td>1</td>\n",
       "      <td>женат / замужем</td>\n",
       "      <td>0</td>\n",
       "      <td>M</td>\n",
       "      <td>сотрудник</td>\n",
       "      <td>0</td>\n",
       "      <td>145885.952297</td>\n",
       "      <td>покупка жилья</td>\n",
       "    </tr>\n",
       "    <tr>\n",
       "      <th>3</th>\n",
       "      <td>3</td>\n",
       "      <td>-4124.747207</td>\n",
       "      <td>32</td>\n",
       "      <td>среднее</td>\n",
       "      <td>1</td>\n",
       "      <td>женат / замужем</td>\n",
       "      <td>0</td>\n",
       "      <td>M</td>\n",
       "      <td>сотрудник</td>\n",
       "      <td>0</td>\n",
       "      <td>267628.550329</td>\n",
       "      <td>дополнительное образование</td>\n",
       "    </tr>\n",
       "    <tr>\n",
       "      <th>4</th>\n",
       "      <td>0</td>\n",
       "      <td>340266.072047</td>\n",
       "      <td>53</td>\n",
       "      <td>среднее</td>\n",
       "      <td>1</td>\n",
       "      <td>гражданский брак</td>\n",
       "      <td>1</td>\n",
       "      <td>F</td>\n",
       "      <td>пенсионер</td>\n",
       "      <td>0</td>\n",
       "      <td>158616.077870</td>\n",
       "      <td>сыграть свадьбу</td>\n",
       "    </tr>\n",
       "  </tbody>\n",
       "</table>\n",
       "</div>"
      ],
      "text/plain": [
       "   children  days_employed  dob_years education  education_id  \\\n",
       "0         1   -8437.673028         42    высшее             0   \n",
       "1         1   -4024.803754         36   среднее             1   \n",
       "2         0   -5623.422610         33   среднее             1   \n",
       "3         3   -4124.747207         32   среднее             1   \n",
       "4         0  340266.072047         53   среднее             1   \n",
       "\n",
       "      family_status  family_status_id gender income_type  debt   total_income  \\\n",
       "0   женат / замужем                 0      F   сотрудник     0  253875.639453   \n",
       "1   женат / замужем                 0      F   сотрудник     0  112080.014102   \n",
       "2   женат / замужем                 0      M   сотрудник     0  145885.952297   \n",
       "3   женат / замужем                 0      M   сотрудник     0  267628.550329   \n",
       "4  гражданский брак                 1      F   пенсионер     0  158616.077870   \n",
       "\n",
       "                      purpose  \n",
       "0               покупка жилья  \n",
       "1     приобретение автомобиля  \n",
       "2               покупка жилья  \n",
       "3  дополнительное образование  \n",
       "4             сыграть свадьбу  "
      ]
     },
     "execution_count": 5,
     "metadata": {},
     "output_type": "execute_result"
    }
   ],
   "source": [
    "# приведем сразу все категориальные признаки к одному регистру для более удобного анализа\n",
    "df[\"education\"] = df[\"education\"].str.lower()\n",
    "df[\"income_type\"] = df[\"income_type\"].str.lower()\n",
    "df[\"family_status\"] = df[\"family_status\"].str.lower()\n",
    "df[\"purpose\"] = df[\"purpose\"].str.lower()\n",
    "df.head()"
   ]
  },
  {
   "cell_type": "code",
   "execution_count": 6,
   "id": "92ce9797",
   "metadata": {
    "ExecuteTime": {
     "end_time": "2022-10-02T16:09:38.007429Z",
     "start_time": "2022-10-02T16:09:37.976924Z"
    }
   },
   "outputs": [
    {
     "data": {
      "text/plain": [
       "children               0\n",
       "days_employed       2174\n",
       "dob_years              0\n",
       "education              0\n",
       "education_id           0\n",
       "family_status          0\n",
       "family_status_id       0\n",
       "gender                 0\n",
       "income_type            0\n",
       "debt                   0\n",
       "total_income        2174\n",
       "purpose                0\n",
       "dtype: int64"
      ]
     },
     "execution_count": 6,
     "metadata": {},
     "output_type": "execute_result"
    }
   ],
   "source": [
    "# посмотрим кол-во пропусков по признакам в датасете:\n",
    "# все не так и плохо, пропуски всего в двух признаках.\n",
    "df.isna().sum()"
   ]
  },
  {
   "cell_type": "markdown",
   "id": "7091a60c",
   "metadata": {
    "ExecuteTime": {
     "end_time": "2022-03-04T12:51:40.911399Z",
     "start_time": "2022-03-04T12:51:40.909181Z"
    }
   },
   "source": [
    "#### 2.2. Обработка пропусков"
   ]
  },
  {
   "cell_type": "markdown",
   "id": "613475eb",
   "metadata": {},
   "source": [
    "#### 2.2.1. Нужно обработать пропуски признака days_employed\n",
    "    Отрицательные значения - похоже что ошибка передачи данных (можно убрать минус через abs())\n",
    "    Тут вопрос в другом: насколько полезен данный признак нам? \n",
    "        Может не стоит на него тратить усилия и сразу удалить?\n",
    "        Изучим этот признак подробней..."
   ]
  },
  {
   "cell_type": "code",
   "execution_count": 8,
   "id": "e1bdf135",
   "metadata": {
    "ExecuteTime": {
     "end_time": "2022-10-02T16:09:57.177382Z",
     "start_time": "2022-10-02T16:09:57.146273Z"
    }
   },
   "outputs": [
    {
     "data": {
      "text/html": [
       "<div>\n",
       "<style scoped>\n",
       "    .dataframe tbody tr th:only-of-type {\n",
       "        vertical-align: middle;\n",
       "    }\n",
       "\n",
       "    .dataframe tbody tr th {\n",
       "        vertical-align: top;\n",
       "    }\n",
       "\n",
       "    .dataframe thead th {\n",
       "        text-align: right;\n",
       "    }\n",
       "</style>\n",
       "<table border=\"1\" class=\"dataframe\">\n",
       "  <thead>\n",
       "    <tr style=\"text-align: right;\">\n",
       "      <th></th>\n",
       "      <th>children</th>\n",
       "      <th>days_employed</th>\n",
       "      <th>dob_years</th>\n",
       "      <th>education_id</th>\n",
       "      <th>family_status_id</th>\n",
       "      <th>debt</th>\n",
       "      <th>total_income</th>\n",
       "      <th>years_employed</th>\n",
       "    </tr>\n",
       "  </thead>\n",
       "  <tbody>\n",
       "    <tr>\n",
       "      <th>count</th>\n",
       "      <td>21525.000000</td>\n",
       "      <td>19351.000000</td>\n",
       "      <td>21525.000000</td>\n",
       "      <td>21525.000000</td>\n",
       "      <td>21525.000000</td>\n",
       "      <td>21525.000000</td>\n",
       "      <td>1.935100e+04</td>\n",
       "      <td>19351.000000</td>\n",
       "    </tr>\n",
       "    <tr>\n",
       "      <th>mean</th>\n",
       "      <td>0.538908</td>\n",
       "      <td>66914.728907</td>\n",
       "      <td>43.293380</td>\n",
       "      <td>0.817236</td>\n",
       "      <td>0.972544</td>\n",
       "      <td>0.080883</td>\n",
       "      <td>1.674223e+05</td>\n",
       "      <td>183.328024</td>\n",
       "    </tr>\n",
       "    <tr>\n",
       "      <th>std</th>\n",
       "      <td>1.381587</td>\n",
       "      <td>139030.880527</td>\n",
       "      <td>12.574584</td>\n",
       "      <td>0.548138</td>\n",
       "      <td>1.420324</td>\n",
       "      <td>0.272661</td>\n",
       "      <td>1.029716e+05</td>\n",
       "      <td>380.906522</td>\n",
       "    </tr>\n",
       "    <tr>\n",
       "      <th>min</th>\n",
       "      <td>-1.000000</td>\n",
       "      <td>24.141633</td>\n",
       "      <td>0.000000</td>\n",
       "      <td>0.000000</td>\n",
       "      <td>0.000000</td>\n",
       "      <td>0.000000</td>\n",
       "      <td>2.066726e+04</td>\n",
       "      <td>0.066141</td>\n",
       "    </tr>\n",
       "    <tr>\n",
       "      <th>25%</th>\n",
       "      <td>0.000000</td>\n",
       "      <td>927.009265</td>\n",
       "      <td>33.000000</td>\n",
       "      <td>1.000000</td>\n",
       "      <td>0.000000</td>\n",
       "      <td>0.000000</td>\n",
       "      <td>1.030532e+05</td>\n",
       "      <td>2.539751</td>\n",
       "    </tr>\n",
       "    <tr>\n",
       "      <th>50%</th>\n",
       "      <td>0.000000</td>\n",
       "      <td>2194.220567</td>\n",
       "      <td>42.000000</td>\n",
       "      <td>1.000000</td>\n",
       "      <td>0.000000</td>\n",
       "      <td>0.000000</td>\n",
       "      <td>1.450179e+05</td>\n",
       "      <td>6.011563</td>\n",
       "    </tr>\n",
       "    <tr>\n",
       "      <th>75%</th>\n",
       "      <td>1.000000</td>\n",
       "      <td>5537.882441</td>\n",
       "      <td>53.000000</td>\n",
       "      <td>1.000000</td>\n",
       "      <td>1.000000</td>\n",
       "      <td>0.000000</td>\n",
       "      <td>2.034351e+05</td>\n",
       "      <td>15.172281</td>\n",
       "    </tr>\n",
       "    <tr>\n",
       "      <th>max</th>\n",
       "      <td>20.000000</td>\n",
       "      <td>401755.400475</td>\n",
       "      <td>75.000000</td>\n",
       "      <td>4.000000</td>\n",
       "      <td>4.000000</td>\n",
       "      <td>1.000000</td>\n",
       "      <td>2.265604e+06</td>\n",
       "      <td>1100.699727</td>\n",
       "    </tr>\n",
       "  </tbody>\n",
       "</table>\n",
       "</div>"
      ],
      "text/plain": [
       "           children  days_employed     dob_years  education_id  \\\n",
       "count  21525.000000   19351.000000  21525.000000  21525.000000   \n",
       "mean       0.538908   66914.728907     43.293380      0.817236   \n",
       "std        1.381587  139030.880527     12.574584      0.548138   \n",
       "min       -1.000000      24.141633      0.000000      0.000000   \n",
       "25%        0.000000     927.009265     33.000000      1.000000   \n",
       "50%        0.000000    2194.220567     42.000000      1.000000   \n",
       "75%        1.000000    5537.882441     53.000000      1.000000   \n",
       "max       20.000000  401755.400475     75.000000      4.000000   \n",
       "\n",
       "       family_status_id          debt  total_income  years_employed  \n",
       "count      21525.000000  21525.000000  1.935100e+04    19351.000000  \n",
       "mean           0.972544      0.080883  1.674223e+05      183.328024  \n",
       "std            1.420324      0.272661  1.029716e+05      380.906522  \n",
       "min            0.000000      0.000000  2.066726e+04        0.066141  \n",
       "25%            0.000000      0.000000  1.030532e+05        2.539751  \n",
       "50%            0.000000      0.000000  1.450179e+05        6.011563  \n",
       "75%            1.000000      0.000000  2.034351e+05       15.172281  \n",
       "max            4.000000      1.000000  2.265604e+06     1100.699727  "
      ]
     },
     "execution_count": 8,
     "metadata": {},
     "output_type": "execute_result"
    }
   ],
   "source": [
    "# избавимся от отрицательных значений в признаке:\n",
    "df[\"days_employed\"] = abs(df[\"days_employed\"])\n",
    "# добавим новый признак years_employed (переведем трудовой стаж в годы)\n",
    "df[\"years_employed\"] = df[\"days_employed\"]/365\n",
    "df.describe()"
   ]
  },
  {
   "cell_type": "code",
   "execution_count": 9,
   "id": "02a191a4",
   "metadata": {
    "ExecuteTime": {
     "end_time": "2022-10-02T16:10:01.164525Z",
     "start_time": "2022-10-02T16:10:00.393260Z"
    }
   },
   "outputs": [
    {
     "data": {
      "text/plain": [
       "<AxesSubplot:>"
      ]
     },
     "execution_count": 9,
     "metadata": {},
     "output_type": "execute_result"
    },
    {
     "data": {
      "image/png": "[encoded data removed]",
      "text/plain": [
       "<Figure size 432x288 with 1 Axes>"
      ]
     },
     "metadata": {
      "needs_background": "light"
     },
     "output_type": "display_data"
    }
   ],
   "source": [
    "# посмотрим на распределение признака dob_years и years_employed\n",
    "df[\"dob_years\"].hist(bins=20)"
   ]
  },
  {
   "cell_type": "markdown",
   "id": "63cbf097",
   "metadata": {},
   "source": [
    " <div class=\"alert alert-info\"> <b>Правка на комментарий #1:</b> обработаем нулевые значения возраста заемщика, т.к. это явно косяк, который потом может нам подпортить статистику. Используем самый простой вариант: замену медианным значением признака (по всем значениям). Вариант №2: можно было бы сделать более сложный вариант: посчитать медианное значение возраста по группам (категориям), например муж\\жен, по профессии, или исходя из трудового стажа. Но т.к. этот признак в дальнейшем на наше исследование не влияет - применим самый простой вариант заполнения нулевых значений. Обработка будет произведена далее по ноутбуку. </div>"
   ]
  },
  {
   "cell_type": "code",
   "execution_count": 10,
   "id": "d97e678e",
   "metadata": {
    "ExecuteTime": {
     "end_time": "2022-10-02T16:10:19.260954Z",
     "start_time": "2022-10-02T16:10:19.243478Z"
    }
   },
   "outputs": [
    {
     "data": {
      "text/plain": [
       "101"
      ]
     },
     "execution_count": 10,
     "metadata": {},
     "output_type": "execute_result"
    }
   ],
   "source": [
    "# подсчитаем сколкьо у нас нулевых значений. Много, более 5%.\n",
    "len(df[df[\"dob_years\"] ==0])"
   ]
  },
  {
   "cell_type": "code",
   "execution_count": 11,
   "id": "3ac5996a",
   "metadata": {
    "ExecuteTime": {
     "end_time": "2022-10-02T16:10:20.039450Z",
     "start_time": "2022-10-02T16:10:20.029005Z"
    }
   },
   "outputs": [
    {
     "data": {
      "text/plain": [
       "42.0"
      ]
     },
     "execution_count": 11,
     "metadata": {},
     "output_type": "execute_result"
    }
   ],
   "source": [
    "dob_years_median = df[\"dob_years\"].median()\n",
    "dob_years_median"
   ]
  },
  {
   "cell_type": "code",
   "execution_count": 12,
   "id": "73b19f49",
   "metadata": {
    "ExecuteTime": {
     "end_time": "2022-10-02T16:10:20.497241Z",
     "start_time": "2022-10-02T16:10:20.394174Z"
    }
   },
   "outputs": [
    {
     "data": {
      "text/plain": [
       "<AxesSubplot:>"
      ]
     },
     "execution_count": 12,
     "metadata": {},
     "output_type": "execute_result"
    },
    {
     "data": {
      "image/png": "[encoded data removed]",
      "text/plain": [
       "<Figure size 432x288 with 1 Axes>"
      ]
     },
     "metadata": {
      "needs_background": "light"
     },
     "output_type": "display_data"
    }
   ],
   "source": [
    "# тут явно какие -то артефакты в значениях, так как распределение years_employed не равномерное\n",
    "# и выходит за пределы значений возраста клиентов (dob_years)\n",
    "df[\"years_employed\"].hist(bins=10)"
   ]
  },
  {
   "cell_type": "code",
   "execution_count": 13,
   "id": "68222cce",
   "metadata": {
    "ExecuteTime": {
     "end_time": "2022-10-02T16:10:20.772535Z",
     "start_time": "2022-10-02T16:10:20.761598Z"
    }
   },
   "outputs": [
    {
     "name": "stdout",
     "output_type": "stream",
     "text": [
      "медианный возраст клиента 42.0\n",
      "медианный стаж работы клиента 6.0115631969279315\n"
     ]
    }
   ],
   "source": [
    "# медианнное значение years_employed/days_employed также выглядят странно.\n",
    "median_dobs_years = df[\"dob_years\"].median()\n",
    "print(\"медианный возраст клиента\",median_dobs_years)\n",
    "median_days_empl = df[\"years_employed\"].median()\n",
    "print(\"медианный стаж работы клиента\",median_days_empl)\n",
    "#df[\"days_employed\"] = df[\"days_employed\"].fillna(median_days_empl)"
   ]
  },
  {
   "cell_type": "markdown",
   "id": "3739797b",
   "metadata": {
    "ExecuteTime": {
     "end_time": "2022-03-06T06:47:11.179420Z",
     "start_time": "2022-03-06T06:47:11.171676Z"
    }
   },
   "source": [
    "Вывод: наверное лучшим простым решением было бы удаление признаков days_employed (и его производный years_employed) чтобы избежать негативного влияния на наши данные при анализе, но в работе аналитика все может пригодиться, поэтому оставим."
   ]
  },
  {
   "cell_type": "code",
   "execution_count": 14,
   "id": "49ef28b8",
   "metadata": {
    "ExecuteTime": {
     "end_time": "2022-10-02T16:10:21.786997Z",
     "start_time": "2022-10-02T16:10:21.778257Z"
    }
   },
   "outputs": [],
   "source": [
    "#df = df.drop([\"years_employed\",'days_employed'],1)"
   ]
  },
  {
   "cell_type": "markdown",
   "id": "b7c4a7f3",
   "metadata": {},
   "source": [
    " <div class=\"alert alert-info\"> <b> Заполним пропуски в этих признаках медианным значением: </div>"
   ]
  },
  {
   "cell_type": "code",
   "execution_count": 16,
   "id": "afd5f04f",
   "metadata": {
    "ExecuteTime": {
     "end_time": "2022-10-02T16:10:59.133571Z",
     "start_time": "2022-10-02T16:10:59.096572Z"
    }
   },
   "outputs": [
    {
     "name": "stdout",
     "output_type": "stream",
     "text": [
      "<class 'pandas.core.frame.DataFrame'>\n",
      "RangeIndex: 21525 entries, 0 to 21524\n",
      "Data columns (total 13 columns):\n",
      " #   Column            Non-Null Count  Dtype  \n",
      "---  ------            --------------  -----  \n",
      " 0   children          21525 non-null  int64  \n",
      " 1   days_employed     21525 non-null  float64\n",
      " 2   dob_years         21525 non-null  int64  \n",
      " 3   education         21525 non-null  object \n",
      " 4   education_id      21525 non-null  int64  \n",
      " 5   family_status     21525 non-null  object \n",
      " 6   family_status_id  21525 non-null  int64  \n",
      " 7   gender            21525 non-null  object \n",
      " 8   income_type       21525 non-null  object \n",
      " 9   debt              21525 non-null  int64  \n",
      " 10  total_income      19351 non-null  float64\n",
      " 11  purpose           21525 non-null  object \n",
      " 12  years_employed    21525 non-null  float64\n",
      "dtypes: float64(3), int64(5), object(5)\n",
      "memory usage: 2.1+ MB\n"
     ]
    }
   ],
   "source": [
    "median_years_empl = df['years_employed'].median()\n",
    "df['years_employed'] = df['years_employed'].fillna(median_years_empl) \n",
    "median_days_empl = df['days_employed'].median()\n",
    "df['days_employed'] = df['days_employed'].fillna(median_days_empl) \n",
    "# посмотрим на результат:\n",
    "df.info()"
   ]
  },
  {
   "cell_type": "markdown",
   "id": "f60fdb50",
   "metadata": {
    "ExecuteTime": {
     "end_time": "2022-03-05T17:44:54.510847Z",
     "start_time": "2022-03-05T17:44:54.508501Z"
    }
   },
   "source": [
    "#### 2.2.2.Нужно обработать пропуски признака total_income"
   ]
  },
  {
   "cell_type": "markdown",
   "id": "d8968b64",
   "metadata": {},
   "source": [
    "Далее нужно обработать пропуски признака total_income.\n",
    "Целесообразно в этой ситуации использовать медиану, но не на базе всех данных,\n",
    "а по категориям: использовать уровень образования и тип занятости.\n",
    "\n",
    "Для этого напишем функцию, для вычисления медианы для конкретной категории. "
   ]
  },
  {
   "cell_type": "code",
   "execution_count": 17,
   "id": "0ca1ca1a",
   "metadata": {
    "ExecuteTime": {
     "end_time": "2022-10-02T16:11:21.423502Z",
     "start_time": "2022-10-02T16:11:21.409686Z"
    }
   },
   "outputs": [],
   "source": [
    "def calc_median(df, education_level, income_type):\n",
    "    \"\"\"\n",
    "    Функция считает медиану по группам признаков\n",
    "    \"\"\"\n",
    "    # ориентируемся на оба параметра\n",
    "    median = df[(df['education'] == education_level) & (df['income_type'] == income_type)]['total_income'].median()\n",
    "    # для случая где нет совпадения для двух параметров, предусмотрим рассчет по одному\n",
    "    if math.isnan(median):\n",
    "        median = df[df['education'] == education_level]['total_income'].median()\n",
    "        if math.isnan(median):\n",
    "            median = df[df['income_type'] == income_type]['total_income'].median()    \n",
    "    return median"
   ]
  },
  {
   "cell_type": "code",
   "execution_count": 18,
   "id": "2860c20b",
   "metadata": {
    "ExecuteTime": {
     "end_time": "2022-10-02T16:11:23.931167Z",
     "start_time": "2022-10-02T16:11:23.771786Z"
    }
   },
   "outputs": [],
   "source": [
    "# применим новую функцию для заполнения пропусков пройдясь по категориям уровня\n",
    "# образования и типа занятости:\n",
    "for education in df[df['total_income'].isnull()]['education'].unique():\n",
    "    for income_type in df[df['total_income'].isnull()]['income_type'].unique():\n",
    "        median = calc_median(df, education, income_type)\n",
    "        searchRow = (df['education'] == education) & (df['income_type'] == income_type) & (df['total_income'].isnull())\n",
    "        df.loc[searchRow, 'total_income'] = df.loc[searchRow, 'total_income'].fillna(median)\n",
    " "
   ]
  },
  {
   "cell_type": "code",
   "execution_count": 19,
   "id": "ca9d7f4e",
   "metadata": {
    "ExecuteTime": {
     "end_time": "2022-10-02T16:11:34.269600Z",
     "start_time": "2022-10-02T16:11:34.247848Z"
    }
   },
   "outputs": [
    {
     "data": {
      "text/plain": [
       "0"
      ]
     },
     "execution_count": 19,
     "metadata": {},
     "output_type": "execute_result"
    }
   ],
   "source": [
    "# применим transform и медиану для заполнения пропусков:\n",
    "df['total_income']= df['total_income'].fillna(df.groupby(['education','income_type'])['total_income'].transform(\"median\"))\n",
    "# убедимся что код отработал корректно:\n",
    "df['total_income'].isnull().sum()"
   ]
  },
  {
   "cell_type": "markdown",
   "id": "84ed351c",
   "metadata": {},
   "source": [
    "#### 2.3. Замена типа данных"
   ]
  },
  {
   "cell_type": "code",
   "execution_count": 20,
   "id": "a0e9e1ea",
   "metadata": {
    "ExecuteTime": {
     "end_time": "2022-10-02T16:11:39.143115Z",
     "start_time": "2022-10-02T16:11:39.105240Z"
    }
   },
   "outputs": [
    {
     "name": "stdout",
     "output_type": "stream",
     "text": [
      "<class 'pandas.core.frame.DataFrame'>\n",
      "RangeIndex: 21525 entries, 0 to 21524\n",
      "Data columns (total 13 columns):\n",
      " #   Column            Non-Null Count  Dtype  \n",
      "---  ------            --------------  -----  \n",
      " 0   children          21525 non-null  int64  \n",
      " 1   days_employed     21525 non-null  float64\n",
      " 2   dob_years         21525 non-null  int64  \n",
      " 3   education         21525 non-null  object \n",
      " 4   education_id      21525 non-null  int64  \n",
      " 5   family_status     21525 non-null  object \n",
      " 6   family_status_id  21525 non-null  int64  \n",
      " 7   gender            21525 non-null  object \n",
      " 8   income_type       21525 non-null  object \n",
      " 9   debt              21525 non-null  int64  \n",
      " 10  total_income      21525 non-null  int64  \n",
      " 11  purpose           21525 non-null  object \n",
      " 12  years_employed    21525 non-null  float64\n",
      "dtypes: float64(2), int64(6), object(5)\n",
      "memory usage: 2.1+ MB\n"
     ]
    }
   ],
   "source": [
    "# Заменим тип total_income на int \n",
    "# Поскольку мы в дальнейшем будем категоризировать данные по total_income, \n",
    "# то с целочисленными значениями это будет делать проще.\n",
    "df['total_income'] = df['total_income'].astype('int')\n",
    "df.info()"
   ]
  },
  {
   "cell_type": "markdown",
   "id": "7b775677",
   "metadata": {},
   "source": [
    "#### 2.4. Поиск и обработка дубликатов в данных"
   ]
  },
  {
   "cell_type": "code",
   "execution_count": 21,
   "id": "94f207b6",
   "metadata": {
    "ExecuteTime": {
     "end_time": "2022-10-02T16:11:42.809608Z",
     "start_time": "2022-10-02T16:11:42.776063Z"
    }
   },
   "outputs": [
    {
     "data": {
      "text/plain": [
       "71"
      ]
     },
     "execution_count": 21,
     "metadata": {},
     "output_type": "execute_result"
    }
   ],
   "source": [
    "# проверим, есть ли дубликаты в таблице\n",
    "df.duplicated().sum()"
   ]
  },
  {
   "cell_type": "code",
   "execution_count": 22,
   "id": "c7a39bc5",
   "metadata": {
    "ExecuteTime": {
     "end_time": "2022-10-02T16:11:45.244304Z",
     "start_time": "2022-10-02T16:11:45.192901Z"
    }
   },
   "outputs": [
    {
     "data": {
      "text/plain": [
       "0"
      ]
     },
     "execution_count": 22,
     "metadata": {},
     "output_type": "execute_result"
    }
   ],
   "source": [
    "# дубликаты есть, уберем их:\n",
    "df = df.drop_duplicates().reset_index(drop=True) \n",
    "df.duplicated().sum()"
   ]
  },
  {
   "cell_type": "markdown",
   "id": "b26dd589",
   "metadata": {},
   "source": [
    "Вывод:  \n",
    "Дубликатов оказалось не так много и их удалось быстро удалить. Причины дубликатов - возможно на 1 человека заполнялось по несколько анкет, а затем вносились в базу."
   ]
  },
  {
   "cell_type": "markdown",
   "id": "cd8dc20a",
   "metadata": {},
   "source": [
    "#### 2.5. Поиск ошибок и аномалий в данных"
   ]
  },
  {
   "cell_type": "markdown",
   "id": "6ba723d8",
   "metadata": {},
   "source": [
    "Обработка других ошибок в данных\\\n",
    "Дополнительно поизучав данные на уровне подсчета уникальных значений (value_counts()) для каждого столбца, был выявлен еще ряд проблем:\n",
    "\n",
    "children_count содержит значение 20 и -1, хотя отрицательного числа быть не может и 20 сильно выделяется на фоне остальной выборки\\\n",
    "dob_years содержит нулевой возраст\\\n",
    "gender содержит пол XNA\\\n",
    "purpose содержит опечатку - ремонт жильЮ\\\n",
    "\n",
    "Про возможные причины и действия: \n",
    "Значение 20 в количестве детей скорее всего опечатка от значения 2,случайно напечатали ноль.\n",
    "Нулевой возраст быть не может, скорее всего он нам просто неизвестен. Можем заменить медианным значением.\n",
    "Ошибку пол XNA - заменим самым частым значением (по признаку).\n",
    "Сборщика данных предупредим о выявленных ошибках, дабы уменьшить их кол-во в будущем.\n",
    "Исправим эти моменты у себя в датасете."
   ]
  },
  {
   "cell_type": "code",
   "execution_count": 23,
   "id": "f115fda7",
   "metadata": {
    "ExecuteTime": {
     "end_time": "2022-10-02T16:12:07.502975Z",
     "start_time": "2022-10-02T16:12:07.488368Z"
    }
   },
   "outputs": [
    {
     "data": {
      "text/plain": [
       " 0     14091\n",
       " 1      4808\n",
       " 2      2052\n",
       " 3       330\n",
       " 20       76\n",
       "-1        47\n",
       " 4        41\n",
       " 5         9\n",
       "Name: children, dtype: int64"
      ]
     },
     "execution_count": 23,
     "metadata": {},
     "output_type": "execute_result"
    }
   ],
   "source": [
    "# в признаке 'children' встречается значение 20 (что нереально) и -1 (тоже анреал).\n",
    "df['children'].value_counts()"
   ]
  },
  {
   "cell_type": "code",
   "execution_count": 24,
   "id": "03ae4dad",
   "metadata": {
    "ExecuteTime": {
     "end_time": "2022-10-02T16:12:10.468826Z",
     "start_time": "2022-10-02T16:12:10.454607Z"
    }
   },
   "outputs": [
    {
     "data": {
      "text/plain": [
       "0    14091\n",
       "1     4855\n",
       "2     2128\n",
       "3      330\n",
       "4       41\n",
       "5        9\n",
       "Name: children, dtype: int64"
      ]
     },
     "execution_count": 24,
     "metadata": {},
     "output_type": "execute_result"
    }
   ],
   "source": [
    "# исправим значение -1 для количества детей  на 1 (скорее всего это описка)\n",
    "df['children'] = abs(df['children'])\n",
    "# исправим значение 20 для количества детей на 2 (скорее всего это тех описка), \n",
    "# хотя таких случаев много (76)\n",
    "df['children'] = df['children'].replace(20, 2) \n",
    "# Убедимся, что ошибки устранены:\n",
    "df['children'].value_counts()"
   ]
  },
  {
   "cell_type": "code",
   "execution_count": 25,
   "id": "bffc4e84",
   "metadata": {
    "ExecuteTime": {
     "end_time": "2022-10-02T16:12:13.367655Z",
     "start_time": "2022-10-02T16:12:13.357594Z"
    }
   },
   "outputs": [],
   "source": [
    "# заменим значение 0 на медианное значение в признаке \"возраст заемщика\":\n",
    "median_years = df['dob_years'].median()\n",
    "df['dob_years'] = df['dob_years'].replace(0, median_years) "
   ]
  },
  {
   "cell_type": "code",
   "execution_count": 26,
   "id": "9a8bfd28",
   "metadata": {
    "ExecuteTime": {
     "end_time": "2022-10-02T16:12:17.443121Z",
     "start_time": "2022-10-02T16:12:17.423917Z"
    }
   },
   "outputs": [
    {
     "data": {
      "text/plain": [
       "F    14175\n",
       "M     7279\n",
       "Name: gender, dtype: int64"
      ]
     },
     "execution_count": 26,
     "metadata": {},
     "output_type": "execute_result"
    }
   ],
   "source": [
    "# В признаке gender содержится странный \"пол\" - 'XNA'. \n",
    "# Заменим его самым частым значением gender.\n",
    "most_gender = df['gender'].value_counts().index[0]\n",
    "df['gender'] = df['gender'].replace('XNA',most_gender) \n",
    "df['gender'].value_counts()"
   ]
  },
  {
   "cell_type": "code",
   "execution_count": 119,
   "id": "727dad84",
   "metadata": {
    "ExecuteTime": {
     "end_time": "2022-03-18T04:44:53.812136Z",
     "start_time": "2022-03-18T04:44:53.802031Z"
    }
   },
   "outputs": [
    {
     "data": {
      "text/plain": [
       "свадьба                                   791\n",
       "на проведение свадьбы                     768\n",
       "сыграть свадьбу                           765\n",
       "операции с недвижимостью                  675\n",
       "покупка коммерческой недвижимости         661\n",
       "операции с жильем                         652\n",
       "покупка жилья для сдачи                   651\n",
       "операции с коммерческой недвижимостью     650\n",
       "жилье                                     646\n",
       "покупка жилья                             646\n",
       "покупка жилья для семьи                   638\n",
       "строительство собственной недвижимости    635\n",
       "недвижимость                              633\n",
       "операции со своей недвижимостью           627\n",
       "строительство жилой недвижимости          624\n",
       "покупка недвижимости                      621\n",
       "покупка своего жилья                      620\n",
       "строительство недвижимости                619\n",
       "ремонт жилью                              607\n",
       "покупка жилой недвижимости                606\n",
       "на покупку своего автомобиля              505\n",
       "заняться высшим образованием              496\n",
       "автомобиль                                494\n",
       "сделка с подержанным автомобилем          486\n",
       "на покупку подержанного автомобиля        478\n",
       "свой автомобиль                           478\n",
       "автомобили                                478\n",
       "на покупку автомобиля                     471\n",
       "приобретение автомобиля                   461\n",
       "дополнительное образование                460\n",
       "сделка с автомобилем                      455\n",
       "высшее образование                        452\n",
       "образование                               447\n",
       "получение дополнительного образования     446\n",
       "получение образования                     442\n",
       "профильное образование                    436\n",
       "получение высшего образования             426\n",
       "заняться образованием                     408\n",
       "Name: purpose, dtype: int64"
      ]
     },
     "execution_count": 119,
     "metadata": {},
     "output_type": "execute_result"
    }
   ],
   "source": [
    "# изучим подробнее имеющиеся значения признака \"цель\" кредита:\n",
    "df['purpose'].value_counts()"
   ]
  },
  {
   "cell_type": "markdown",
   "id": "9e894388",
   "metadata": {
    "ExecuteTime": {
     "end_time": "2022-03-04T14:14:46.677807Z",
     "start_time": "2022-03-04T14:14:46.668765Z"
    }
   },
   "source": [
    " Признак purpose содержит опечатку - \"ремонт жильЮ\""
   ]
  },
  {
   "cell_type": "code",
   "execution_count": 27,
   "id": "5899bc39",
   "metadata": {
    "ExecuteTime": {
     "end_time": "2022-10-02T16:12:22.055623Z",
     "start_time": "2022-10-02T16:12:22.041071Z"
    }
   },
   "outputs": [],
   "source": [
    "# исправим опечатку:\n",
    "df['purpose'] = df['purpose'].replace('ремонт жилью','ремонт жилья') "
   ]
  },
  {
   "cell_type": "markdown",
   "id": "681d8b18",
   "metadata": {},
   "source": [
    "Вывод\\\n",
    "В данных встречаются артефакты и нам стоит об этом предупредить тех, кто готовил данные. Однако их количество вряд ли отразится на статических результатах исследования. Тем не менее, для большей точности, ключевые моменты мы исправили."
   ]
  },
  {
   "cell_type": "markdown",
   "id": "3e422283",
   "metadata": {},
   "source": [
    "### 3. Категоризация данных"
   ]
  },
  {
   "cell_type": "markdown",
   "id": "7ebfd495",
   "metadata": {},
   "source": [
    "#### 3.1. Категоризация признака purpose. Лемматизация"
   ]
  },
  {
   "cell_type": "code",
   "execution_count": 28,
   "id": "9f450e5a",
   "metadata": {
    "ExecuteTime": {
     "end_time": "2022-10-02T16:12:36.220471Z",
     "start_time": "2022-10-02T16:12:30.392398Z"
    }
   },
   "outputs": [
    {
     "name": "stdout",
     "output_type": "stream",
     "text": [
      "покупка 10\n",
      "недвижимость 10\n",
      "автомобиль 9\n",
      "образование 9\n",
      "жилье 7\n",
      "с 5\n",
      "операция 4\n",
      "на 4\n",
      "свой 4\n",
      "свадьба 3\n",
      "строительство 3\n",
      "получение 3\n",
      "высокий 3\n"
     ]
    }
   ],
   "source": [
    "# Используем лемматизацию  (процесс преобразования слова в его базовую форму).\n",
    "# выделим леммы в значениях столбца с целями получения кредита (purpose)\n",
    "m = Mystem()\n",
    "# получим леммы для каждой причины, чтобы дальше проанализировать\n",
    "# используем словарь, а не список, чтобы дальше это использовать для категоризации\n",
    "lemmas_dict = dict()\n",
    "for purpose in df['purpose'].unique():\n",
    "    lemmas_dict[purpose] = m.lemmatize(purpose)\n",
    "    \n",
    "# проанализируем леммы - удалим пробелы, выделим самые часто встречаемые слова\n",
    "# отсортируем по частоте встречания слов, чтобы получить словарь основных причин\n",
    "# те слова, что встречаются только один раз, удалим\n",
    "\n",
    "#для начала проанализируем частоту встречания слов по всем причинам кредита\n",
    "lemmas_count = dict()\n",
    "for key, lemmas in lemmas_dict.items():\n",
    "    for lemma in lemmas:\n",
    "        if lemma != ' ' and lemma != '\\n':\n",
    "            if not lemma in lemmas_count:\n",
    "                lemmas_count[lemma] = 1\n",
    "            else:\n",
    "                lemmas_count[lemma] += 1\n",
    "                \n",
    "#выведем топ встречаемых слов                \n",
    "for k in sorted(lemmas_count, key=lemmas_count.get, reverse=True):\n",
    "    if lemmas_count[k] > 2:\n",
    "        print(k, lemmas_count[k])"
   ]
  },
  {
   "cell_type": "code",
   "execution_count": 29,
   "id": "12a3be8a",
   "metadata": {
    "ExecuteTime": {
     "end_time": "2022-10-02T16:12:43.159884Z",
     "start_time": "2022-10-02T16:12:43.141240Z"
    }
   },
   "outputs": [
    {
     "data": {
      "text/plain": [
       "{'покупка жилья': ['покупка', ' ', 'жилье', '\\n'],\n",
       " 'приобретение автомобиля': ['приобретение', ' ', 'автомобиль', '\\n'],\n",
       " 'дополнительное образование': ['дополнительный', ' ', 'образование', '\\n'],\n",
       " 'сыграть свадьбу': ['сыграть', ' ', 'свадьба', '\\n'],\n",
       " 'операции с жильем': ['операция', ' ', 'с', ' ', 'жилье', '\\n'],\n",
       " 'образование': ['образование', '\\n'],\n",
       " 'на проведение свадьбы': ['на', ' ', 'проведение', ' ', 'свадьба', '\\n'],\n",
       " 'покупка жилья для семьи': ['покупка',\n",
       "  ' ',\n",
       "  'жилье',\n",
       "  ' ',\n",
       "  'для',\n",
       "  ' ',\n",
       "  'семья',\n",
       "  '\\n'],\n",
       " 'покупка недвижимости': ['покупка', ' ', 'недвижимость', '\\n'],\n",
       " 'покупка коммерческой недвижимости': ['покупка',\n",
       "  ' ',\n",
       "  'коммерческий',\n",
       "  ' ',\n",
       "  'недвижимость',\n",
       "  '\\n'],\n",
       " 'покупка жилой недвижимости': ['покупка',\n",
       "  ' ',\n",
       "  'жилой',\n",
       "  ' ',\n",
       "  'недвижимость',\n",
       "  '\\n'],\n",
       " 'строительство собственной недвижимости': ['строительство',\n",
       "  ' ',\n",
       "  'собственный',\n",
       "  ' ',\n",
       "  'недвижимость',\n",
       "  '\\n'],\n",
       " 'недвижимость': ['недвижимость', '\\n'],\n",
       " 'строительство недвижимости': ['строительство', ' ', 'недвижимость', '\\n'],\n",
       " 'на покупку подержанного автомобиля': ['на',\n",
       "  ' ',\n",
       "  'покупка',\n",
       "  ' ',\n",
       "  'подержать',\n",
       "  ' ',\n",
       "  'автомобиль',\n",
       "  '\\n'],\n",
       " 'на покупку своего автомобиля': ['на',\n",
       "  ' ',\n",
       "  'покупка',\n",
       "  ' ',\n",
       "  'свой',\n",
       "  ' ',\n",
       "  'автомобиль',\n",
       "  '\\n'],\n",
       " 'операции с коммерческой недвижимостью': ['операция',\n",
       "  ' ',\n",
       "  'с',\n",
       "  ' ',\n",
       "  'коммерческий',\n",
       "  ' ',\n",
       "  'недвижимость',\n",
       "  '\\n'],\n",
       " 'строительство жилой недвижимости': ['строительство',\n",
       "  ' ',\n",
       "  'жилой',\n",
       "  ' ',\n",
       "  'недвижимость',\n",
       "  '\\n'],\n",
       " 'жилье': ['жилье', '\\n'],\n",
       " 'операции со своей недвижимостью': ['операция',\n",
       "  ' ',\n",
       "  'со',\n",
       "  ' ',\n",
       "  'свой',\n",
       "  ' ',\n",
       "  'недвижимость',\n",
       "  '\\n'],\n",
       " 'автомобили': ['автомобиль', '\\n'],\n",
       " 'заняться образованием': ['заниматься', ' ', 'образование', '\\n'],\n",
       " 'сделка с подержанным автомобилем': ['сделка',\n",
       "  ' ',\n",
       "  'с',\n",
       "  ' ',\n",
       "  'подержанный',\n",
       "  ' ',\n",
       "  'автомобиль',\n",
       "  '\\n'],\n",
       " 'получение образования': ['получение', ' ', 'образование', '\\n'],\n",
       " 'автомобиль': ['автомобиль', '\\n'],\n",
       " 'свадьба': ['свадьба', '\\n'],\n",
       " 'получение дополнительного образования': ['получение',\n",
       "  ' ',\n",
       "  'дополнительный',\n",
       "  ' ',\n",
       "  'образование',\n",
       "  '\\n'],\n",
       " 'покупка своего жилья': ['покупка', ' ', 'свой', ' ', 'жилье', '\\n'],\n",
       " 'операции с недвижимостью': ['операция', ' ', 'с', ' ', 'недвижимость', '\\n'],\n",
       " 'получение высшего образования': ['получение',\n",
       "  ' ',\n",
       "  'высокий',\n",
       "  ' ',\n",
       "  'образование',\n",
       "  '\\n'],\n",
       " 'свой автомобиль': ['свой', ' ', 'автомобиль', '\\n'],\n",
       " 'сделка с автомобилем': ['сделка', ' ', 'с', ' ', 'автомобиль', '\\n'],\n",
       " 'профильное образование': ['профильный', ' ', 'образование', '\\n'],\n",
       " 'высшее образование': ['высокий', ' ', 'образование', '\\n'],\n",
       " 'покупка жилья для сдачи': ['покупка',\n",
       "  ' ',\n",
       "  'жилье',\n",
       "  ' ',\n",
       "  'для',\n",
       "  ' ',\n",
       "  'сдача',\n",
       "  '\\n'],\n",
       " 'на покупку автомобиля': ['на', ' ', 'покупка', ' ', 'автомобиль', '\\n'],\n",
       " 'ремонт жилья': ['ремонт', ' ', 'жилье', '\\n'],\n",
       " 'заняться высшим образованием': ['заниматься',\n",
       "  ' ',\n",
       "  'высокий',\n",
       "  ' ',\n",
       "  'образование',\n",
       "  '\\n']}"
      ]
     },
     "execution_count": 29,
     "metadata": {},
     "output_type": "execute_result"
    }
   ],
   "source": [
    "lemmas_dict"
   ]
  },
  {
   "cell_type": "code",
   "execution_count": 30,
   "id": "e955c8f2",
   "metadata": {
    "ExecuteTime": {
     "end_time": "2022-10-02T16:12:48.461964Z",
     "start_time": "2022-10-02T16:12:48.419684Z"
    }
   },
   "outputs": [
    {
     "data": {
      "text/html": [
       "<div>\n",
       "<style scoped>\n",
       "    .dataframe tbody tr th:only-of-type {\n",
       "        vertical-align: middle;\n",
       "    }\n",
       "\n",
       "    .dataframe tbody tr th {\n",
       "        vertical-align: top;\n",
       "    }\n",
       "\n",
       "    .dataframe thead th {\n",
       "        text-align: right;\n",
       "    }\n",
       "</style>\n",
       "<table border=\"1\" class=\"dataframe\">\n",
       "  <thead>\n",
       "    <tr style=\"text-align: right;\">\n",
       "      <th></th>\n",
       "      <th>children</th>\n",
       "      <th>days_employed</th>\n",
       "      <th>dob_years</th>\n",
       "      <th>education</th>\n",
       "      <th>education_id</th>\n",
       "      <th>family_status</th>\n",
       "      <th>family_status_id</th>\n",
       "      <th>gender</th>\n",
       "      <th>income_type</th>\n",
       "      <th>debt</th>\n",
       "      <th>total_income</th>\n",
       "      <th>purpose</th>\n",
       "      <th>years_employed</th>\n",
       "      <th>purpose_category</th>\n",
       "    </tr>\n",
       "  </thead>\n",
       "  <tbody>\n",
       "  </tbody>\n",
       "</table>\n",
       "</div>"
      ],
      "text/plain": [
       "Empty DataFrame\n",
       "Columns: [children, days_employed, dob_years, education, education_id, family_status, family_status_id, gender, income_type, debt, total_income, purpose, years_employed, purpose_category]\n",
       "Index: []"
      ]
     },
     "execution_count": 30,
     "metadata": {},
     "output_type": "execute_result"
    }
   ],
   "source": [
    "# Создадим новый признак (true_purpose) с основанием для кредита по категориям, \n",
    "# которые мы выделили на этапе лемматизации\n",
    "\n",
    "# напишем функцию:\n",
    "def make_true_purpose(table_purpose):\n",
    "    \"\"\"\n",
    "    создание нового признака с категоризацией основания для кредита\n",
    "    \"\"\"\n",
    "    #lemmas_dict мы сохраняли ранее\n",
    "    purpose_lemmas = lemmas_dict[table_purpose]\n",
    "    if 'недвижимость' in purpose_lemmas or 'жилье' in purpose_lemmas:\n",
    "        return 'операции с недвижимостью'\n",
    "    \n",
    "    if 'автомобиль' in purpose_lemmas:\n",
    "        return 'операции с автомобилем'\n",
    "    \n",
    "    if 'образование' in purpose_lemmas:\n",
    "        return 'получение образования'\n",
    "    \n",
    "    if 'свадьба' in purpose_lemmas:\n",
    "        return 'проведение свадьбы'\n",
    "    \n",
    "    return ''\n",
    "\n",
    "df['purpose_category'] = df['purpose'].apply(make_true_purpose)\n",
    "    \n",
    "#проверим, что никто не остался без категории\n",
    "df[df['purpose_category'] == '']"
   ]
  },
  {
   "cell_type": "code",
   "execution_count": 31,
   "id": "57a3e575",
   "metadata": {
    "ExecuteTime": {
     "end_time": "2022-10-02T16:12:53.138513Z",
     "start_time": "2022-10-02T16:12:53.124476Z"
    }
   },
   "outputs": [
    {
     "data": {
      "text/plain": [
       "операции с недвижимостью    10811\n",
       "операции с автомобилем       4306\n",
       "получение образования        4013\n",
       "проведение свадьбы           2324\n",
       "Name: purpose_category, dtype: int64"
      ]
     },
     "execution_count": 31,
     "metadata": {},
     "output_type": "execute_result"
    }
   ],
   "source": [
    "# Изучим результат категоризации кредитов: получились 4 основные категории. \n",
    "df['purpose_category'].value_counts()"
   ]
  },
  {
   "cell_type": "code",
   "execution_count": 32,
   "id": "24bec8a7",
   "metadata": {
    "ExecuteTime": {
     "end_time": "2022-10-02T16:12:56.141758Z",
     "start_time": "2022-10-02T16:12:56.121151Z"
    }
   },
   "outputs": [
    {
     "data": {
      "text/html": [
       "<div>\n",
       "<style scoped>\n",
       "    .dataframe tbody tr th:only-of-type {\n",
       "        vertical-align: middle;\n",
       "    }\n",
       "\n",
       "    .dataframe tbody tr th {\n",
       "        vertical-align: top;\n",
       "    }\n",
       "\n",
       "    .dataframe thead th {\n",
       "        text-align: right;\n",
       "    }\n",
       "</style>\n",
       "<table border=\"1\" class=\"dataframe\">\n",
       "  <thead>\n",
       "    <tr style=\"text-align: right;\">\n",
       "      <th></th>\n",
       "      <th>children</th>\n",
       "      <th>days_employed</th>\n",
       "      <th>dob_years</th>\n",
       "      <th>education</th>\n",
       "      <th>education_id</th>\n",
       "      <th>family_status</th>\n",
       "      <th>family_status_id</th>\n",
       "      <th>gender</th>\n",
       "      <th>income_type</th>\n",
       "      <th>debt</th>\n",
       "      <th>total_income</th>\n",
       "      <th>purpose</th>\n",
       "      <th>years_employed</th>\n",
       "      <th>purpose_category</th>\n",
       "    </tr>\n",
       "  </thead>\n",
       "  <tbody>\n",
       "    <tr>\n",
       "      <th>0</th>\n",
       "      <td>1</td>\n",
       "      <td>8437.673028</td>\n",
       "      <td>42</td>\n",
       "      <td>высшее</td>\n",
       "      <td>0</td>\n",
       "      <td>женат / замужем</td>\n",
       "      <td>0</td>\n",
       "      <td>F</td>\n",
       "      <td>сотрудник</td>\n",
       "      <td>0</td>\n",
       "      <td>253875</td>\n",
       "      <td>покупка жилья</td>\n",
       "      <td>23.116912</td>\n",
       "      <td>операции с недвижимостью</td>\n",
       "    </tr>\n",
       "    <tr>\n",
       "      <th>1</th>\n",
       "      <td>1</td>\n",
       "      <td>4024.803754</td>\n",
       "      <td>36</td>\n",
       "      <td>среднее</td>\n",
       "      <td>1</td>\n",
       "      <td>женат / замужем</td>\n",
       "      <td>0</td>\n",
       "      <td>F</td>\n",
       "      <td>сотрудник</td>\n",
       "      <td>0</td>\n",
       "      <td>112080</td>\n",
       "      <td>приобретение автомобиля</td>\n",
       "      <td>11.026860</td>\n",
       "      <td>операции с автомобилем</td>\n",
       "    </tr>\n",
       "    <tr>\n",
       "      <th>2</th>\n",
       "      <td>0</td>\n",
       "      <td>5623.422610</td>\n",
       "      <td>33</td>\n",
       "      <td>среднее</td>\n",
       "      <td>1</td>\n",
       "      <td>женат / замужем</td>\n",
       "      <td>0</td>\n",
       "      <td>M</td>\n",
       "      <td>сотрудник</td>\n",
       "      <td>0</td>\n",
       "      <td>145885</td>\n",
       "      <td>покупка жилья</td>\n",
       "      <td>15.406637</td>\n",
       "      <td>операции с недвижимостью</td>\n",
       "    </tr>\n",
       "    <tr>\n",
       "      <th>3</th>\n",
       "      <td>3</td>\n",
       "      <td>4124.747207</td>\n",
       "      <td>32</td>\n",
       "      <td>среднее</td>\n",
       "      <td>1</td>\n",
       "      <td>женат / замужем</td>\n",
       "      <td>0</td>\n",
       "      <td>M</td>\n",
       "      <td>сотрудник</td>\n",
       "      <td>0</td>\n",
       "      <td>267628</td>\n",
       "      <td>дополнительное образование</td>\n",
       "      <td>11.300677</td>\n",
       "      <td>получение образования</td>\n",
       "    </tr>\n",
       "    <tr>\n",
       "      <th>4</th>\n",
       "      <td>0</td>\n",
       "      <td>340266.072047</td>\n",
       "      <td>53</td>\n",
       "      <td>среднее</td>\n",
       "      <td>1</td>\n",
       "      <td>гражданский брак</td>\n",
       "      <td>1</td>\n",
       "      <td>F</td>\n",
       "      <td>пенсионер</td>\n",
       "      <td>0</td>\n",
       "      <td>158616</td>\n",
       "      <td>сыграть свадьбу</td>\n",
       "      <td>932.235814</td>\n",
       "      <td>проведение свадьбы</td>\n",
       "    </tr>\n",
       "  </tbody>\n",
       "</table>\n",
       "</div>"
      ],
      "text/plain": [
       "   children  days_employed  dob_years education  education_id  \\\n",
       "0         1    8437.673028         42    высшее             0   \n",
       "1         1    4024.803754         36   среднее             1   \n",
       "2         0    5623.422610         33   среднее             1   \n",
       "3         3    4124.747207         32   среднее             1   \n",
       "4         0  340266.072047         53   среднее             1   \n",
       "\n",
       "      family_status  family_status_id gender income_type  debt  total_income  \\\n",
       "0   женат / замужем                 0      F   сотрудник     0        253875   \n",
       "1   женат / замужем                 0      F   сотрудник     0        112080   \n",
       "2   женат / замужем                 0      M   сотрудник     0        145885   \n",
       "3   женат / замужем                 0      M   сотрудник     0        267628   \n",
       "4  гражданский брак                 1      F   пенсионер     0        158616   \n",
       "\n",
       "                      purpose  years_employed          purpose_category  \n",
       "0               покупка жилья       23.116912  операции с недвижимостью  \n",
       "1     приобретение автомобиля       11.026860    операции с автомобилем  \n",
       "2               покупка жилья       15.406637  операции с недвижимостью  \n",
       "3  дополнительное образование       11.300677     получение образования  \n",
       "4             сыграть свадьбу      932.235814        проведение свадьбы  "
      ]
     },
     "execution_count": 32,
     "metadata": {},
     "output_type": "execute_result"
    }
   ],
   "source": [
    "df.head()"
   ]
  },
  {
   "cell_type": "markdown",
   "id": "12d42e2a",
   "metadata": {},
   "source": [
    "#### 3.2. Категоризация признака children"
   ]
  },
  {
   "cell_type": "code",
   "execution_count": 33,
   "id": "388c3b4d",
   "metadata": {
    "ExecuteTime": {
     "end_time": "2022-10-02T16:13:00.113509Z",
     "start_time": "2022-10-02T16:13:00.097407Z"
    }
   },
   "outputs": [
    {
     "data": {
      "text/plain": [
       "0    14091\n",
       "1     4855\n",
       "2     2128\n",
       "3      330\n",
       "4       41\n",
       "5        9\n",
       "Name: children, dtype: int64"
      ]
     },
     "execution_count": 33,
     "metadata": {},
     "output_type": "execute_result"
    }
   ],
   "source": [
    "# была идея категоризировать этот признак на 0, 1, 2 и 3+ детей, но отказался от этой идеи.\n",
    "df['children'].value_counts()"
   ]
  },
  {
   "cell_type": "markdown",
   "id": "35e9660a",
   "metadata": {},
   "source": [
    "#### 3.3. Категоризация признака total_income"
   ]
  },
  {
   "cell_type": "code",
   "execution_count": 34,
   "id": "6bfbc6fc",
   "metadata": {
    "ExecuteTime": {
     "end_time": "2022-10-02T16:13:09.499145Z",
     "start_time": "2022-10-02T16:13:09.469842Z"
    }
   },
   "outputs": [
    {
     "data": {
      "text/plain": [
       "C    15829\n",
       "B     5228\n",
       "D      350\n",
       "A       25\n",
       "E       22\n",
       "Name: total_income_category, dtype: int64"
      ]
     },
     "execution_count": 34,
     "metadata": {},
     "output_type": "execute_result"
    }
   ],
   "source": [
    "# категоризируем признак total_income\n",
    "# будем использовать следующие категории:\n",
    "# до 50, от 50 до 100, от 100 до 150, от 150 до 200, от 200 до 300, от 300 и выше\n",
    "\n",
    "def make_income_category(total_income):\n",
    "    \"\"\"\n",
    "    функция делает категоризацию по доходу\n",
    "    \"\"\"\n",
    "    if total_income <= 30000:\n",
    "        return 'E'\n",
    "    if 30000 < total_income <= 50000:\n",
    "        return 'D'\n",
    "    if 50000 < total_income <= 200000:\n",
    "        return 'C'\n",
    "    if 200000 < total_income <= 1000000:\n",
    "        return 'B'\n",
    "    return 'A'\n",
    "\n",
    "df['total_income_category'] = df['total_income'].apply(make_income_category)\n",
    "# проверим, что получилось на выходе:\n",
    "df['total_income_category'].value_counts()"
   ]
  },
  {
   "cell_type": "code",
   "execution_count": 35,
   "id": "3576b54e",
   "metadata": {
    "ExecuteTime": {
     "end_time": "2022-10-02T16:13:20.838952Z",
     "start_time": "2022-10-02T16:13:20.824560Z"
    }
   },
   "outputs": [
    {
     "data": {
      "text/plain": [
       "операции с недвижимостью    0.503915\n",
       "операции с автомобилем      0.200708\n",
       "получение образования       0.187051\n",
       "проведение свадьбы          0.108325\n",
       "Name: purpose_category, dtype: float64"
      ]
     },
     "execution_count": 35,
     "metadata": {},
     "output_type": "execute_result"
    }
   ],
   "source": [
    "# посмотрим на распределение кредитов по целям-кредита в % долях от общего числа:\n",
    "df['purpose_category'].value_counts(normalize=True)"
   ]
  },
  {
   "cell_type": "markdown",
   "id": "0bcbb2e5",
   "metadata": {},
   "source": [
    "# Вывод:  \n",
    "Судя по уровню дохода, кредит не особо интересен тем, кто зарабатывает очень много, как и тем, кто зарабатывает мало. А вот остальным (в диапазоне от 30001 до 1000000) он интересен. Причем с доходом от 50001 до 200000  - наиболее интересен.  \n",
    "Кредит не бояться брать те, у кого нет детей, а чем детей больше - тем меньше желающих.  \n",
    "Больше всего интересуют именно кредиты, связанные с недвижимостью (50% +)"
   ]
  },
  {
   "cell_type": "markdown",
   "id": "cf8578ca",
   "metadata": {},
   "source": [
    "### 3.2. Выделение словарей"
   ]
  },
  {
   "cell_type": "code",
   "execution_count": 36,
   "id": "b1699f37",
   "metadata": {
    "ExecuteTime": {
     "end_time": "2022-10-02T16:13:25.597796Z",
     "start_time": "2022-10-02T16:13:25.574301Z"
    }
   },
   "outputs": [
    {
     "data": {
      "text/html": [
       "<div>\n",
       "<style scoped>\n",
       "    .dataframe tbody tr th:only-of-type {\n",
       "        vertical-align: middle;\n",
       "    }\n",
       "\n",
       "    .dataframe tbody tr th {\n",
       "        vertical-align: top;\n",
       "    }\n",
       "\n",
       "    .dataframe thead th {\n",
       "        text-align: right;\n",
       "    }\n",
       "</style>\n",
       "<table border=\"1\" class=\"dataframe\">\n",
       "  <thead>\n",
       "    <tr style=\"text-align: right;\">\n",
       "      <th></th>\n",
       "      <th>children</th>\n",
       "      <th>days_employed</th>\n",
       "      <th>dob_years</th>\n",
       "      <th>education</th>\n",
       "      <th>education_id</th>\n",
       "      <th>family_status</th>\n",
       "      <th>family_status_id</th>\n",
       "      <th>gender</th>\n",
       "      <th>income_type</th>\n",
       "      <th>debt</th>\n",
       "      <th>total_income</th>\n",
       "      <th>purpose</th>\n",
       "      <th>years_employed</th>\n",
       "      <th>purpose_category</th>\n",
       "      <th>total_income_category</th>\n",
       "    </tr>\n",
       "  </thead>\n",
       "  <tbody>\n",
       "    <tr>\n",
       "      <th>0</th>\n",
       "      <td>1</td>\n",
       "      <td>8437.673028</td>\n",
       "      <td>42</td>\n",
       "      <td>высшее</td>\n",
       "      <td>0</td>\n",
       "      <td>женат / замужем</td>\n",
       "      <td>0</td>\n",
       "      <td>F</td>\n",
       "      <td>сотрудник</td>\n",
       "      <td>0</td>\n",
       "      <td>253875</td>\n",
       "      <td>покупка жилья</td>\n",
       "      <td>23.116912</td>\n",
       "      <td>операции с недвижимостью</td>\n",
       "      <td>B</td>\n",
       "    </tr>\n",
       "    <tr>\n",
       "      <th>1</th>\n",
       "      <td>1</td>\n",
       "      <td>4024.803754</td>\n",
       "      <td>36</td>\n",
       "      <td>среднее</td>\n",
       "      <td>1</td>\n",
       "      <td>женат / замужем</td>\n",
       "      <td>0</td>\n",
       "      <td>F</td>\n",
       "      <td>сотрудник</td>\n",
       "      <td>0</td>\n",
       "      <td>112080</td>\n",
       "      <td>приобретение автомобиля</td>\n",
       "      <td>11.026860</td>\n",
       "      <td>операции с автомобилем</td>\n",
       "      <td>C</td>\n",
       "    </tr>\n",
       "    <tr>\n",
       "      <th>2</th>\n",
       "      <td>0</td>\n",
       "      <td>5623.422610</td>\n",
       "      <td>33</td>\n",
       "      <td>среднее</td>\n",
       "      <td>1</td>\n",
       "      <td>женат / замужем</td>\n",
       "      <td>0</td>\n",
       "      <td>M</td>\n",
       "      <td>сотрудник</td>\n",
       "      <td>0</td>\n",
       "      <td>145885</td>\n",
       "      <td>покупка жилья</td>\n",
       "      <td>15.406637</td>\n",
       "      <td>операции с недвижимостью</td>\n",
       "      <td>C</td>\n",
       "    </tr>\n",
       "    <tr>\n",
       "      <th>3</th>\n",
       "      <td>3</td>\n",
       "      <td>4124.747207</td>\n",
       "      <td>32</td>\n",
       "      <td>среднее</td>\n",
       "      <td>1</td>\n",
       "      <td>женат / замужем</td>\n",
       "      <td>0</td>\n",
       "      <td>M</td>\n",
       "      <td>сотрудник</td>\n",
       "      <td>0</td>\n",
       "      <td>267628</td>\n",
       "      <td>дополнительное образование</td>\n",
       "      <td>11.300677</td>\n",
       "      <td>получение образования</td>\n",
       "      <td>B</td>\n",
       "    </tr>\n",
       "    <tr>\n",
       "      <th>4</th>\n",
       "      <td>0</td>\n",
       "      <td>340266.072047</td>\n",
       "      <td>53</td>\n",
       "      <td>среднее</td>\n",
       "      <td>1</td>\n",
       "      <td>гражданский брак</td>\n",
       "      <td>1</td>\n",
       "      <td>F</td>\n",
       "      <td>пенсионер</td>\n",
       "      <td>0</td>\n",
       "      <td>158616</td>\n",
       "      <td>сыграть свадьбу</td>\n",
       "      <td>932.235814</td>\n",
       "      <td>проведение свадьбы</td>\n",
       "      <td>C</td>\n",
       "    </tr>\n",
       "    <tr>\n",
       "      <th>5</th>\n",
       "      <td>0</td>\n",
       "      <td>926.185831</td>\n",
       "      <td>27</td>\n",
       "      <td>высшее</td>\n",
       "      <td>0</td>\n",
       "      <td>гражданский брак</td>\n",
       "      <td>1</td>\n",
       "      <td>M</td>\n",
       "      <td>компаньон</td>\n",
       "      <td>0</td>\n",
       "      <td>255763</td>\n",
       "      <td>покупка жилья</td>\n",
       "      <td>2.537495</td>\n",
       "      <td>операции с недвижимостью</td>\n",
       "      <td>B</td>\n",
       "    </tr>\n",
       "    <tr>\n",
       "      <th>6</th>\n",
       "      <td>0</td>\n",
       "      <td>2879.202052</td>\n",
       "      <td>43</td>\n",
       "      <td>высшее</td>\n",
       "      <td>0</td>\n",
       "      <td>женат / замужем</td>\n",
       "      <td>0</td>\n",
       "      <td>F</td>\n",
       "      <td>компаньон</td>\n",
       "      <td>0</td>\n",
       "      <td>240525</td>\n",
       "      <td>операции с жильем</td>\n",
       "      <td>7.888225</td>\n",
       "      <td>операции с недвижимостью</td>\n",
       "      <td>B</td>\n",
       "    </tr>\n",
       "    <tr>\n",
       "      <th>7</th>\n",
       "      <td>0</td>\n",
       "      <td>152.779569</td>\n",
       "      <td>50</td>\n",
       "      <td>среднее</td>\n",
       "      <td>1</td>\n",
       "      <td>женат / замужем</td>\n",
       "      <td>0</td>\n",
       "      <td>M</td>\n",
       "      <td>сотрудник</td>\n",
       "      <td>0</td>\n",
       "      <td>135823</td>\n",
       "      <td>образование</td>\n",
       "      <td>0.418574</td>\n",
       "      <td>получение образования</td>\n",
       "      <td>C</td>\n",
       "    </tr>\n",
       "    <tr>\n",
       "      <th>8</th>\n",
       "      <td>2</td>\n",
       "      <td>6929.865299</td>\n",
       "      <td>35</td>\n",
       "      <td>высшее</td>\n",
       "      <td>0</td>\n",
       "      <td>гражданский брак</td>\n",
       "      <td>1</td>\n",
       "      <td>F</td>\n",
       "      <td>сотрудник</td>\n",
       "      <td>0</td>\n",
       "      <td>95856</td>\n",
       "      <td>на проведение свадьбы</td>\n",
       "      <td>18.985932</td>\n",
       "      <td>проведение свадьбы</td>\n",
       "      <td>C</td>\n",
       "    </tr>\n",
       "    <tr>\n",
       "      <th>9</th>\n",
       "      <td>0</td>\n",
       "      <td>2188.756445</td>\n",
       "      <td>41</td>\n",
       "      <td>среднее</td>\n",
       "      <td>1</td>\n",
       "      <td>женат / замужем</td>\n",
       "      <td>0</td>\n",
       "      <td>M</td>\n",
       "      <td>сотрудник</td>\n",
       "      <td>0</td>\n",
       "      <td>144425</td>\n",
       "      <td>покупка жилья для семьи</td>\n",
       "      <td>5.996593</td>\n",
       "      <td>операции с недвижимостью</td>\n",
       "      <td>C</td>\n",
       "    </tr>\n",
       "  </tbody>\n",
       "</table>\n",
       "</div>"
      ],
      "text/plain": [
       "   children  days_employed  dob_years education  education_id  \\\n",
       "0         1    8437.673028         42    высшее             0   \n",
       "1         1    4024.803754         36   среднее             1   \n",
       "2         0    5623.422610         33   среднее             1   \n",
       "3         3    4124.747207         32   среднее             1   \n",
       "4         0  340266.072047         53   среднее             1   \n",
       "5         0     926.185831         27    высшее             0   \n",
       "6         0    2879.202052         43    высшее             0   \n",
       "7         0     152.779569         50   среднее             1   \n",
       "8         2    6929.865299         35    высшее             0   \n",
       "9         0    2188.756445         41   среднее             1   \n",
       "\n",
       "      family_status  family_status_id gender income_type  debt  total_income  \\\n",
       "0   женат / замужем                 0      F   сотрудник     0        253875   \n",
       "1   женат / замужем                 0      F   сотрудник     0        112080   \n",
       "2   женат / замужем                 0      M   сотрудник     0        145885   \n",
       "3   женат / замужем                 0      M   сотрудник     0        267628   \n",
       "4  гражданский брак                 1      F   пенсионер     0        158616   \n",
       "5  гражданский брак                 1      M   компаньон     0        255763   \n",
       "6   женат / замужем                 0      F   компаньон     0        240525   \n",
       "7   женат / замужем                 0      M   сотрудник     0        135823   \n",
       "8  гражданский брак                 1      F   сотрудник     0         95856   \n",
       "9   женат / замужем                 0      M   сотрудник     0        144425   \n",
       "\n",
       "                      purpose  years_employed          purpose_category  \\\n",
       "0               покупка жилья       23.116912  операции с недвижимостью   \n",
       "1     приобретение автомобиля       11.026860    операции с автомобилем   \n",
       "2               покупка жилья       15.406637  операции с недвижимостью   \n",
       "3  дополнительное образование       11.300677     получение образования   \n",
       "4             сыграть свадьбу      932.235814        проведение свадьбы   \n",
       "5               покупка жилья        2.537495  операции с недвижимостью   \n",
       "6           операции с жильем        7.888225  операции с недвижимостью   \n",
       "7                 образование        0.418574     получение образования   \n",
       "8       на проведение свадьбы       18.985932        проведение свадьбы   \n",
       "9     покупка жилья для семьи        5.996593  операции с недвижимостью   \n",
       "\n",
       "  total_income_category  \n",
       "0                     B  \n",
       "1                     C  \n",
       "2                     C  \n",
       "3                     B  \n",
       "4                     C  \n",
       "5                     B  \n",
       "6                     B  \n",
       "7                     C  \n",
       "8                     C  \n",
       "9                     C  "
      ]
     },
     "execution_count": 36,
     "metadata": {},
     "output_type": "execute_result"
    }
   ],
   "source": [
    "df.head(10)"
   ]
  },
  {
   "cell_type": "markdown",
   "id": "e9bda86e",
   "metadata": {},
   "source": [
    "По данным у нас напрашиваются два словаря. Более того, у нас уже предусмотрены соответствующие id\n",
    "\n",
    "education\n",
    "family_status\n",
    "Помимо этого, можно вынести отдельно gender и purpose. Но gender не занимает много места и не сильно нужен нам для анализа, по сути столбец вовсе можно удалить. А purpose не отражает реальных категорий, поэтому мы выделяли типы отдельно, поэтому словарь для него выйдет избыточным.\n",
    "\n",
    "Поэтому остановимся на словарях для education и family_status"
   ]
  },
  {
   "cell_type": "code",
   "execution_count": 37,
   "id": "98b4ca36",
   "metadata": {
    "ExecuteTime": {
     "end_time": "2022-10-02T16:13:29.748562Z",
     "start_time": "2022-10-02T16:13:29.724554Z"
    }
   },
   "outputs": [
    {
     "data": {
      "text/html": [
       "<div>\n",
       "<style scoped>\n",
       "    .dataframe tbody tr th:only-of-type {\n",
       "        vertical-align: middle;\n",
       "    }\n",
       "\n",
       "    .dataframe tbody tr th {\n",
       "        vertical-align: top;\n",
       "    }\n",
       "\n",
       "    .dataframe thead th {\n",
       "        text-align: right;\n",
       "    }\n",
       "</style>\n",
       "<table border=\"1\" class=\"dataframe\">\n",
       "  <thead>\n",
       "    <tr style=\"text-align: right;\">\n",
       "      <th></th>\n",
       "      <th>education_id</th>\n",
       "      <th>education</th>\n",
       "    </tr>\n",
       "  </thead>\n",
       "  <tbody>\n",
       "    <tr>\n",
       "      <th>0</th>\n",
       "      <td>0</td>\n",
       "      <td>высшее</td>\n",
       "    </tr>\n",
       "    <tr>\n",
       "      <th>1</th>\n",
       "      <td>1</td>\n",
       "      <td>среднее</td>\n",
       "    </tr>\n",
       "    <tr>\n",
       "      <th>2</th>\n",
       "      <td>2</td>\n",
       "      <td>неоконченное высшее</td>\n",
       "    </tr>\n",
       "    <tr>\n",
       "      <th>3</th>\n",
       "      <td>3</td>\n",
       "      <td>начальное</td>\n",
       "    </tr>\n",
       "    <tr>\n",
       "      <th>4</th>\n",
       "      <td>4</td>\n",
       "      <td>ученая степень</td>\n",
       "    </tr>\n",
       "  </tbody>\n",
       "</table>\n",
       "</div>"
      ],
      "text/plain": [
       "   education_id            education\n",
       "0             0               высшее\n",
       "1             1              среднее\n",
       "2             2  неоконченное высшее\n",
       "3             3            начальное\n",
       "4             4       ученая степень"
      ]
     },
     "execution_count": 37,
     "metadata": {},
     "output_type": "execute_result"
    }
   ],
   "source": [
    "# выделим словарь для education:\n",
    "education_dict = df[['education_id', 'education']]\n",
    "# удалим дубликаты из словаря\n",
    "education_dict = education_dict.drop_duplicates().reset_index(drop=True)\n",
    "# проверим содержимое\n",
    "education_dict.head(10)"
   ]
  },
  {
   "cell_type": "code",
   "execution_count": 38,
   "id": "8d4bbd51",
   "metadata": {
    "ExecuteTime": {
     "end_time": "2022-10-02T16:13:35.423390Z",
     "start_time": "2022-10-02T16:13:35.404769Z"
    }
   },
   "outputs": [
    {
     "name": "stdout",
     "output_type": "stream",
     "text": [
      "<class 'pandas.core.frame.DataFrame'>\n",
      "RangeIndex: 5 entries, 0 to 4\n",
      "Data columns (total 2 columns):\n",
      " #   Column        Non-Null Count  Dtype \n",
      "---  ------        --------------  ----- \n",
      " 0   education_id  5 non-null      int64 \n",
      " 1   education     5 non-null      object\n",
      "dtypes: int64(1), object(1)\n",
      "memory usage: 208.0+ bytes\n"
     ]
    }
   ],
   "source": [
    "education_dict.info()"
   ]
  },
  {
   "cell_type": "code",
   "execution_count": 39,
   "id": "cb28ac8a",
   "metadata": {
    "ExecuteTime": {
     "end_time": "2022-10-02T16:13:37.758909Z",
     "start_time": "2022-10-02T16:13:37.739287Z"
    }
   },
   "outputs": [
    {
     "data": {
      "text/html": [
       "<div>\n",
       "<style scoped>\n",
       "    .dataframe tbody tr th:only-of-type {\n",
       "        vertical-align: middle;\n",
       "    }\n",
       "\n",
       "    .dataframe tbody tr th {\n",
       "        vertical-align: top;\n",
       "    }\n",
       "\n",
       "    .dataframe thead th {\n",
       "        text-align: right;\n",
       "    }\n",
       "</style>\n",
       "<table border=\"1\" class=\"dataframe\">\n",
       "  <thead>\n",
       "    <tr style=\"text-align: right;\">\n",
       "      <th></th>\n",
       "      <th>family_status_id</th>\n",
       "      <th>family_status</th>\n",
       "    </tr>\n",
       "  </thead>\n",
       "  <tbody>\n",
       "    <tr>\n",
       "      <th>0</th>\n",
       "      <td>0</td>\n",
       "      <td>женат / замужем</td>\n",
       "    </tr>\n",
       "    <tr>\n",
       "      <th>1</th>\n",
       "      <td>1</td>\n",
       "      <td>гражданский брак</td>\n",
       "    </tr>\n",
       "    <tr>\n",
       "      <th>2</th>\n",
       "      <td>2</td>\n",
       "      <td>вдовец / вдова</td>\n",
       "    </tr>\n",
       "    <tr>\n",
       "      <th>3</th>\n",
       "      <td>3</td>\n",
       "      <td>в разводе</td>\n",
       "    </tr>\n",
       "    <tr>\n",
       "      <th>4</th>\n",
       "      <td>4</td>\n",
       "      <td>не женат / не замужем</td>\n",
       "    </tr>\n",
       "  </tbody>\n",
       "</table>\n",
       "</div>"
      ],
      "text/plain": [
       "   family_status_id          family_status\n",
       "0                 0        женат / замужем\n",
       "1                 1       гражданский брак\n",
       "2                 2         вдовец / вдова\n",
       "3                 3              в разводе\n",
       "4                 4  не женат / не замужем"
      ]
     },
     "execution_count": 39,
     "metadata": {},
     "output_type": "execute_result"
    }
   ],
   "source": [
    "# аналогичным образом поступим для family_status\n",
    "# выделим словарь для family_status:\n",
    "family_status_dict = df[['family_status_id', 'family_status']]\n",
    "# удалим дубликаты из словаря\n",
    "family_status_dict = family_status_dict.drop_duplicates().reset_index(drop=True)\n",
    "# проверим содержимое\n",
    "family_status_dict.head(10)"
   ]
  },
  {
   "cell_type": "code",
   "execution_count": 40,
   "id": "95f85d11",
   "metadata": {
    "ExecuteTime": {
     "end_time": "2022-10-02T16:13:42.128818Z",
     "start_time": "2022-10-02T16:13:42.106166Z"
    }
   },
   "outputs": [
    {
     "name": "stderr",
     "output_type": "stream",
     "text": [
      "/var/folders/zy/n21wvl254wj5bjdrpk0q3z000000gn/T/ipykernel_85340/2518220148.py:2: FutureWarning: In a future version of pandas all arguments of DataFrame.drop except for the argument 'labels' will be keyword-only.\n",
      "  df = df.drop([\"education\",'family_status'],1)\n"
     ]
    },
    {
     "data": {
      "text/html": [
       "<div>\n",
       "<style scoped>\n",
       "    .dataframe tbody tr th:only-of-type {\n",
       "        vertical-align: middle;\n",
       "    }\n",
       "\n",
       "    .dataframe tbody tr th {\n",
       "        vertical-align: top;\n",
       "    }\n",
       "\n",
       "    .dataframe thead th {\n",
       "        text-align: right;\n",
       "    }\n",
       "</style>\n",
       "<table border=\"1\" class=\"dataframe\">\n",
       "  <thead>\n",
       "    <tr style=\"text-align: right;\">\n",
       "      <th></th>\n",
       "      <th>children</th>\n",
       "      <th>days_employed</th>\n",
       "      <th>dob_years</th>\n",
       "      <th>education_id</th>\n",
       "      <th>family_status_id</th>\n",
       "      <th>gender</th>\n",
       "      <th>income_type</th>\n",
       "      <th>debt</th>\n",
       "      <th>total_income</th>\n",
       "      <th>purpose</th>\n",
       "      <th>years_employed</th>\n",
       "      <th>purpose_category</th>\n",
       "      <th>total_income_category</th>\n",
       "    </tr>\n",
       "  </thead>\n",
       "  <tbody>\n",
       "    <tr>\n",
       "      <th>0</th>\n",
       "      <td>1</td>\n",
       "      <td>8437.673028</td>\n",
       "      <td>42</td>\n",
       "      <td>0</td>\n",
       "      <td>0</td>\n",
       "      <td>F</td>\n",
       "      <td>сотрудник</td>\n",
       "      <td>0</td>\n",
       "      <td>253875</td>\n",
       "      <td>покупка жилья</td>\n",
       "      <td>23.116912</td>\n",
       "      <td>операции с недвижимостью</td>\n",
       "      <td>B</td>\n",
       "    </tr>\n",
       "    <tr>\n",
       "      <th>1</th>\n",
       "      <td>1</td>\n",
       "      <td>4024.803754</td>\n",
       "      <td>36</td>\n",
       "      <td>1</td>\n",
       "      <td>0</td>\n",
       "      <td>F</td>\n",
       "      <td>сотрудник</td>\n",
       "      <td>0</td>\n",
       "      <td>112080</td>\n",
       "      <td>приобретение автомобиля</td>\n",
       "      <td>11.026860</td>\n",
       "      <td>операции с автомобилем</td>\n",
       "      <td>C</td>\n",
       "    </tr>\n",
       "    <tr>\n",
       "      <th>2</th>\n",
       "      <td>0</td>\n",
       "      <td>5623.422610</td>\n",
       "      <td>33</td>\n",
       "      <td>1</td>\n",
       "      <td>0</td>\n",
       "      <td>M</td>\n",
       "      <td>сотрудник</td>\n",
       "      <td>0</td>\n",
       "      <td>145885</td>\n",
       "      <td>покупка жилья</td>\n",
       "      <td>15.406637</td>\n",
       "      <td>операции с недвижимостью</td>\n",
       "      <td>C</td>\n",
       "    </tr>\n",
       "    <tr>\n",
       "      <th>3</th>\n",
       "      <td>3</td>\n",
       "      <td>4124.747207</td>\n",
       "      <td>32</td>\n",
       "      <td>1</td>\n",
       "      <td>0</td>\n",
       "      <td>M</td>\n",
       "      <td>сотрудник</td>\n",
       "      <td>0</td>\n",
       "      <td>267628</td>\n",
       "      <td>дополнительное образование</td>\n",
       "      <td>11.300677</td>\n",
       "      <td>получение образования</td>\n",
       "      <td>B</td>\n",
       "    </tr>\n",
       "    <tr>\n",
       "      <th>4</th>\n",
       "      <td>0</td>\n",
       "      <td>340266.072047</td>\n",
       "      <td>53</td>\n",
       "      <td>1</td>\n",
       "      <td>1</td>\n",
       "      <td>F</td>\n",
       "      <td>пенсионер</td>\n",
       "      <td>0</td>\n",
       "      <td>158616</td>\n",
       "      <td>сыграть свадьбу</td>\n",
       "      <td>932.235814</td>\n",
       "      <td>проведение свадьбы</td>\n",
       "      <td>C</td>\n",
       "    </tr>\n",
       "  </tbody>\n",
       "</table>\n",
       "</div>"
      ],
      "text/plain": [
       "   children  days_employed  dob_years  education_id  family_status_id gender  \\\n",
       "0         1    8437.673028         42             0                 0      F   \n",
       "1         1    4024.803754         36             1                 0      F   \n",
       "2         0    5623.422610         33             1                 0      M   \n",
       "3         3    4124.747207         32             1                 0      M   \n",
       "4         0  340266.072047         53             1                 1      F   \n",
       "\n",
       "  income_type  debt  total_income                     purpose  years_employed  \\\n",
       "0   сотрудник     0        253875               покупка жилья       23.116912   \n",
       "1   сотрудник     0        112080     приобретение автомобиля       11.026860   \n",
       "2   сотрудник     0        145885               покупка жилья       15.406637   \n",
       "3   сотрудник     0        267628  дополнительное образование       11.300677   \n",
       "4   пенсионер     0        158616             сыграть свадьбу      932.235814   \n",
       "\n",
       "           purpose_category total_income_category  \n",
       "0  операции с недвижимостью                     B  \n",
       "1    операции с автомобилем                     C  \n",
       "2  операции с недвижимостью                     C  \n",
       "3     получение образования                     B  \n",
       "4        проведение свадьбы                     C  "
      ]
     },
     "execution_count": 40,
     "metadata": {},
     "output_type": "execute_result"
    }
   ],
   "source": [
    "# т.к. словари мы сохранили, а id проставлены, удалим столбцы education_level и family_status из основной таблицы\n",
    "df = df.drop([\"education\",'family_status'],1)\n",
    "#посмотрим, остались ли столбцы\n",
    "df.head()"
   ]
  },
  {
   "cell_type": "code",
   "execution_count": 41,
   "id": "41a3c917",
   "metadata": {
    "ExecuteTime": {
     "end_time": "2022-10-02T16:13:46.248288Z",
     "start_time": "2022-10-02T16:13:46.235445Z"
    }
   },
   "outputs": [
    {
     "data": {
      "text/plain": [
       "0    19713\n",
       "1     1741\n",
       "Name: debt, dtype: int64"
      ]
     },
     "execution_count": 41,
     "metadata": {},
     "output_type": "execute_result"
    }
   ],
   "source": [
    "df.debt.value_counts()"
   ]
  },
  {
   "cell_type": "markdown",
   "id": "0768967e",
   "metadata": {},
   "source": [
    "### 4. Ответы на вопросы"
   ]
  },
  {
   "cell_type": "markdown",
   "id": "4e923aba",
   "metadata": {},
   "source": [
    "#### 4.1. Вопрос: Есть ли зависимость между наличием детей и возвратом кредита в срок?"
   ]
  },
  {
   "cell_type": "code",
   "execution_count": 42,
   "id": "2bbaadea",
   "metadata": {
    "ExecuteTime": {
     "end_time": "2022-10-02T16:13:54.122561Z",
     "start_time": "2022-10-02T16:13:54.113793Z"
    }
   },
   "outputs": [],
   "source": [
    "# функция, что посчитает нам отношение в процентах, будем использовать для ответов на все вопросы\n",
    "def make_proportion(pdSerises):\n",
    "    return str(round((pdSerises.sum() / pdSerises.count()) * 100, 2)) + '%'"
   ]
  },
  {
   "cell_type": "code",
   "execution_count": 43,
   "id": "e5f741d0",
   "metadata": {
    "ExecuteTime": {
     "end_time": "2022-10-02T16:13:56.476799Z",
     "start_time": "2022-10-02T16:13:56.438598Z"
    }
   },
   "outputs": [
    {
     "data": {
      "text/html": [
       "<div>\n",
       "<style scoped>\n",
       "    .dataframe tbody tr th:only-of-type {\n",
       "        vertical-align: middle;\n",
       "    }\n",
       "\n",
       "    .dataframe tbody tr th {\n",
       "        vertical-align: top;\n",
       "    }\n",
       "\n",
       "    .dataframe thead tr th {\n",
       "        text-align: left;\n",
       "    }\n",
       "\n",
       "    .dataframe thead tr:last-of-type th {\n",
       "        text-align: right;\n",
       "    }\n",
       "</style>\n",
       "<table border=\"1\" class=\"dataframe\">\n",
       "  <thead>\n",
       "    <tr>\n",
       "      <th></th>\n",
       "      <th>sum</th>\n",
       "      <th>count</th>\n",
       "      <th>make_proportion</th>\n",
       "    </tr>\n",
       "    <tr>\n",
       "      <th></th>\n",
       "      <th>debt</th>\n",
       "      <th>debt</th>\n",
       "      <th>debt</th>\n",
       "    </tr>\n",
       "    <tr>\n",
       "      <th>children</th>\n",
       "      <th></th>\n",
       "      <th></th>\n",
       "      <th></th>\n",
       "    </tr>\n",
       "  </thead>\n",
       "  <tbody>\n",
       "    <tr>\n",
       "      <th>5</th>\n",
       "      <td>0</td>\n",
       "      <td>9</td>\n",
       "      <td>0.0%</td>\n",
       "    </tr>\n",
       "    <tr>\n",
       "      <th>0</th>\n",
       "      <td>1063</td>\n",
       "      <td>14091</td>\n",
       "      <td>7.54%</td>\n",
       "    </tr>\n",
       "    <tr>\n",
       "      <th>3</th>\n",
       "      <td>27</td>\n",
       "      <td>330</td>\n",
       "      <td>8.18%</td>\n",
       "    </tr>\n",
       "    <tr>\n",
       "      <th>1</th>\n",
       "      <td>445</td>\n",
       "      <td>4855</td>\n",
       "      <td>9.17%</td>\n",
       "    </tr>\n",
       "    <tr>\n",
       "      <th>2</th>\n",
       "      <td>202</td>\n",
       "      <td>2128</td>\n",
       "      <td>9.49%</td>\n",
       "    </tr>\n",
       "    <tr>\n",
       "      <th>4</th>\n",
       "      <td>4</td>\n",
       "      <td>41</td>\n",
       "      <td>9.76%</td>\n",
       "    </tr>\n",
       "  </tbody>\n",
       "</table>\n",
       "</div>"
      ],
      "text/plain": [
       "           sum  count make_proportion\n",
       "          debt   debt            debt\n",
       "children                             \n",
       "5            0      9            0.0%\n",
       "0         1063  14091           7.54%\n",
       "3           27    330           8.18%\n",
       "1          445   4855           9.17%\n",
       "2          202   2128           9.49%\n",
       "4            4     41           9.76%"
      ]
     },
     "execution_count": 43,
     "metadata": {},
     "output_type": "execute_result"
    }
   ],
   "source": [
    "# построим сводную таблицу для ответа на вопрос\n",
    "data_pivot_children = df.pivot_table(index=['children'], values=[\"debt\"], aggfunc=['sum', 'count', make_proportion])\n",
    "# сортируем, чтобы сразу видеть у кого ситуация лучше\n",
    "data_pivot_children = data_pivot_children.sort_values(by=('make_proportion', 'debt'))\n",
    "data_pivot_children"
   ]
  },
  {
   "cell_type": "code",
   "execution_count": 44,
   "id": "2d7ca643",
   "metadata": {
    "ExecuteTime": {
     "end_time": "2022-10-02T16:14:10.620875Z",
     "start_time": "2022-10-02T16:14:10.592029Z"
    }
   },
   "outputs": [
    {
     "data": {
      "text/html": [
       "<div>\n",
       "<style scoped>\n",
       "    .dataframe tbody tr th:only-of-type {\n",
       "        vertical-align: middle;\n",
       "    }\n",
       "\n",
       "    .dataframe tbody tr th {\n",
       "        vertical-align: top;\n",
       "    }\n",
       "\n",
       "    .dataframe thead tr th {\n",
       "        text-align: left;\n",
       "    }\n",
       "\n",
       "    .dataframe thead tr:last-of-type th {\n",
       "        text-align: right;\n",
       "    }\n",
       "</style>\n",
       "<table border=\"1\" class=\"dataframe\">\n",
       "  <thead>\n",
       "    <tr>\n",
       "      <th></th>\n",
       "      <th>sum</th>\n",
       "      <th>count</th>\n",
       "      <th>mean</th>\n",
       "    </tr>\n",
       "    <tr>\n",
       "      <th></th>\n",
       "      <th>debt</th>\n",
       "      <th>debt</th>\n",
       "      <th>debt</th>\n",
       "    </tr>\n",
       "    <tr>\n",
       "      <th>children</th>\n",
       "      <th></th>\n",
       "      <th></th>\n",
       "      <th></th>\n",
       "    </tr>\n",
       "  </thead>\n",
       "  <tbody>\n",
       "    <tr>\n",
       "      <th>5</th>\n",
       "      <td>0</td>\n",
       "      <td>9</td>\n",
       "      <td>0.000000</td>\n",
       "    </tr>\n",
       "    <tr>\n",
       "      <th>0</th>\n",
       "      <td>1063</td>\n",
       "      <td>14091</td>\n",
       "      <td>0.075438</td>\n",
       "    </tr>\n",
       "    <tr>\n",
       "      <th>3</th>\n",
       "      <td>27</td>\n",
       "      <td>330</td>\n",
       "      <td>0.081818</td>\n",
       "    </tr>\n",
       "    <tr>\n",
       "      <th>1</th>\n",
       "      <td>445</td>\n",
       "      <td>4855</td>\n",
       "      <td>0.091658</td>\n",
       "    </tr>\n",
       "    <tr>\n",
       "      <th>2</th>\n",
       "      <td>202</td>\n",
       "      <td>2128</td>\n",
       "      <td>0.094925</td>\n",
       "    </tr>\n",
       "    <tr>\n",
       "      <th>4</th>\n",
       "      <td>4</td>\n",
       "      <td>41</td>\n",
       "      <td>0.097561</td>\n",
       "    </tr>\n",
       "  </tbody>\n",
       "</table>\n",
       "</div>"
      ],
      "text/plain": [
       "           sum  count      mean\n",
       "          debt   debt      debt\n",
       "children                       \n",
       "5            0      9  0.000000\n",
       "0         1063  14091  0.075438\n",
       "3           27    330  0.081818\n",
       "1          445   4855  0.091658\n",
       "2          202   2128  0.094925\n",
       "4            4     41  0.097561"
      ]
     },
     "execution_count": 44,
     "metadata": {},
     "output_type": "execute_result"
    }
   ],
   "source": [
    "# построим сводную таблицу для ответа на вопрос\n",
    "data_pivot_children = df.pivot_table(index=['children'], values=[\"debt\"], aggfunc=['sum', 'count', \"mean\"])\n",
    "# сортируем, чтобы сразу видеть у кого ситуация лучше\n",
    "data_pivot_children = data_pivot_children.sort_values(by=('mean', 'debt'))\n",
    "data_pivot_children"
   ]
  },
  {
   "cell_type": "markdown",
   "id": "44fbfc61",
   "metadata": {},
   "source": [
    "Вывод:  \n",
    "У заемщика без детей вероятность возникновения задолженности чуть ниже, чем если дети есть.   Что любопытно, когда детей много, задолженность возникает примерно на том же уровне. В остальных случаях вероятность просрочки выше.\n",
    "Но  разница не такая уж большая (между 1-2 ребенка). "
   ]
  },
  {
   "cell_type": "markdown",
   "id": "41e339f8",
   "metadata": {},
   "source": [
    "#### 4.2.Вопрос: Есть ли зависимость между семейным положением и возвратом кредита в срок?"
   ]
  },
  {
   "cell_type": "code",
   "execution_count": 45,
   "id": "0fa258a4",
   "metadata": {
    "ExecuteTime": {
     "end_time": "2022-10-02T16:14:15.314726Z",
     "start_time": "2022-10-02T16:14:15.273340Z"
    }
   },
   "outputs": [
    {
     "data": {
      "text/html": [
       "<div>\n",
       "<style scoped>\n",
       "    .dataframe tbody tr th:only-of-type {\n",
       "        vertical-align: middle;\n",
       "    }\n",
       "\n",
       "    .dataframe tbody tr th {\n",
       "        vertical-align: top;\n",
       "    }\n",
       "\n",
       "    .dataframe thead tr th {\n",
       "        text-align: left;\n",
       "    }\n",
       "\n",
       "    .dataframe thead tr:last-of-type th {\n",
       "        text-align: right;\n",
       "    }\n",
       "</style>\n",
       "<table border=\"1\" class=\"dataframe\">\n",
       "  <thead>\n",
       "    <tr>\n",
       "      <th></th>\n",
       "      <th>sum</th>\n",
       "      <th>count</th>\n",
       "      <th>mean</th>\n",
       "    </tr>\n",
       "    <tr>\n",
       "      <th></th>\n",
       "      <th>debt</th>\n",
       "      <th>debt</th>\n",
       "      <th>debt</th>\n",
       "    </tr>\n",
       "    <tr>\n",
       "      <th>family_status</th>\n",
       "      <th></th>\n",
       "      <th></th>\n",
       "      <th></th>\n",
       "    </tr>\n",
       "  </thead>\n",
       "  <tbody>\n",
       "    <tr>\n",
       "      <th>вдовец / вдова</th>\n",
       "      <td>63</td>\n",
       "      <td>959</td>\n",
       "      <td>0.065693</td>\n",
       "    </tr>\n",
       "    <tr>\n",
       "      <th>в разводе</th>\n",
       "      <td>85</td>\n",
       "      <td>1195</td>\n",
       "      <td>0.071130</td>\n",
       "    </tr>\n",
       "    <tr>\n",
       "      <th>женат / замужем</th>\n",
       "      <td>931</td>\n",
       "      <td>12339</td>\n",
       "      <td>0.075452</td>\n",
       "    </tr>\n",
       "    <tr>\n",
       "      <th>гражданский брак</th>\n",
       "      <td>388</td>\n",
       "      <td>4151</td>\n",
       "      <td>0.093471</td>\n",
       "    </tr>\n",
       "    <tr>\n",
       "      <th>не женат / не замужем</th>\n",
       "      <td>274</td>\n",
       "      <td>2810</td>\n",
       "      <td>0.097509</td>\n",
       "    </tr>\n",
       "  </tbody>\n",
       "</table>\n",
       "</div>"
      ],
      "text/plain": [
       "                       sum  count      mean\n",
       "                      debt   debt      debt\n",
       "family_status                              \n",
       "вдовец / вдова          63    959  0.065693\n",
       "в разводе               85   1195  0.071130\n",
       "женат / замужем        931  12339  0.075452\n",
       "гражданский брак       388   4151  0.093471\n",
       "не женат / не замужем  274   2810  0.097509"
      ]
     },
     "execution_count": 45,
     "metadata": {},
     "output_type": "execute_result"
    }
   ],
   "source": [
    "# поскольку мы до этого удаляли из основных данных текстовые значения family_status, тут необходимо их вернуть\n",
    "df_with_family_status = df.merge(family_status_dict, on='family_status_id', how='left')\n",
    "# построим сводную таблицу для ответа на вопрос (по фрейму со значениями из словаря)\n",
    "data_pivot_family = df_with_family_status.pivot_table(index=['family_status'], values=[\"debt\"], aggfunc=['sum', 'count', \"mean\"])\n",
    "# Отсортируем для удобства\n",
    "data_pivot_family = data_pivot_family.sort_values(by=('mean', 'debt'))\n",
    "data_pivot_family"
   ]
  },
  {
   "cell_type": "markdown",
   "id": "d8e1aee9",
   "metadata": {},
   "source": [
    "Вывод:  \n",
    "Интересно, что вдовец/вдова и люди в разводе имеют наименьший риск просрочки.  Возможно, это связно с тем, что одиночке легче планировать и контролировать свои финансы, меньше непредвиденных расходов.\n",
    "\n",
    "А вот самая \"опасная\" категория - неженатые и состоящие в гражданском браке.  \n",
    "Мораль: безответсвенный человек - безответственен во всем!)"
   ]
  },
  {
   "cell_type": "markdown",
   "id": "06cd23a0",
   "metadata": {
    "ExecuteTime": {
     "end_time": "2022-03-06T15:06:22.057418Z",
     "start_time": "2022-03-06T15:06:22.055178Z"
    }
   },
   "source": [
    "#### 4.3.Вопрос: Есть ли зависимость между уровнем дохода и возвратом кредита в срок?"
   ]
  },
  {
   "cell_type": "code",
   "execution_count": 46,
   "id": "0a2807bc",
   "metadata": {
    "ExecuteTime": {
     "end_time": "2022-10-02T16:14:20.220373Z",
     "start_time": "2022-10-02T16:14:20.190792Z"
    }
   },
   "outputs": [
    {
     "data": {
      "text/html": [
       "<div>\n",
       "<style scoped>\n",
       "    .dataframe tbody tr th:only-of-type {\n",
       "        vertical-align: middle;\n",
       "    }\n",
       "\n",
       "    .dataframe tbody tr th {\n",
       "        vertical-align: top;\n",
       "    }\n",
       "\n",
       "    .dataframe thead tr th {\n",
       "        text-align: left;\n",
       "    }\n",
       "\n",
       "    .dataframe thead tr:last-of-type th {\n",
       "        text-align: right;\n",
       "    }\n",
       "</style>\n",
       "<table border=\"1\" class=\"dataframe\">\n",
       "  <thead>\n",
       "    <tr>\n",
       "      <th></th>\n",
       "      <th>sum</th>\n",
       "      <th>count</th>\n",
       "      <th>mean</th>\n",
       "    </tr>\n",
       "    <tr>\n",
       "      <th></th>\n",
       "      <th>debt</th>\n",
       "      <th>debt</th>\n",
       "      <th>debt</th>\n",
       "    </tr>\n",
       "    <tr>\n",
       "      <th>total_income_category</th>\n",
       "      <th></th>\n",
       "      <th></th>\n",
       "      <th></th>\n",
       "    </tr>\n",
       "  </thead>\n",
       "  <tbody>\n",
       "    <tr>\n",
       "      <th>D</th>\n",
       "      <td>21</td>\n",
       "      <td>350</td>\n",
       "      <td>0.060000</td>\n",
       "    </tr>\n",
       "    <tr>\n",
       "      <th>B</th>\n",
       "      <td>364</td>\n",
       "      <td>5228</td>\n",
       "      <td>0.069625</td>\n",
       "    </tr>\n",
       "    <tr>\n",
       "      <th>A</th>\n",
       "      <td>2</td>\n",
       "      <td>25</td>\n",
       "      <td>0.080000</td>\n",
       "    </tr>\n",
       "    <tr>\n",
       "      <th>C</th>\n",
       "      <td>1352</td>\n",
       "      <td>15829</td>\n",
       "      <td>0.085413</td>\n",
       "    </tr>\n",
       "    <tr>\n",
       "      <th>E</th>\n",
       "      <td>2</td>\n",
       "      <td>22</td>\n",
       "      <td>0.090909</td>\n",
       "    </tr>\n",
       "  </tbody>\n",
       "</table>\n",
       "</div>"
      ],
      "text/plain": [
       "                        sum  count      mean\n",
       "                       debt   debt      debt\n",
       "total_income_category                       \n",
       "D                        21    350  0.060000\n",
       "B                       364   5228  0.069625\n",
       "A                         2     25  0.080000\n",
       "C                      1352  15829  0.085413\n",
       "E                         2     22  0.090909"
      ]
     },
     "execution_count": 46,
     "metadata": {},
     "output_type": "execute_result"
    }
   ],
   "source": [
    "# построим сводную таблицу для ответа на вопрос\n",
    "data_pivot_income = df.pivot_table(index=['total_income_category'], values=[\"debt\"], aggfunc=['sum', 'count', \"mean\"])\n",
    "# сортируем, чтобы сразу видеть у кого ситуация лучше\n",
    "data_pivot_income = data_pivot_income.sort_values(by=('mean', 'debt'))\n",
    "data_pivot_income"
   ]
  },
  {
   "cell_type": "markdown",
   "id": "ceaf7f54",
   "metadata": {},
   "source": [
    "Вывод:  \n",
    "Тут мы видим, смешанную картину: меньше всего просрочка у обеспеченных людей (от  201 до 1000 тыс. руб.) и у тех, у кого доход небольшой (от 31 до 50 тыс.руб.).  \n",
    "При чем первые  не особо любят оформлять заявки на кредит, а вторые наоборот - одна из массовых категорий.  \n",
    "Самые обеспеченные заемщики (1 млн.руб. доход) - тоже не очень любят брать кредит и с платежной дисциплиной у них на 33% хуже.  \n",
    "Самая массовая категория (от 51 до 200 тыс. руб.)- можно сказать средний класс- в целом плохо дисциплинирована, хуже только категория бедных, с доходом до 30 тыс. рублей.  \n",
    "Стоит заметить, что разница между самой дисциплинированной категорией и наоборот - почти 50%."
   ]
  },
  {
   "cell_type": "markdown",
   "id": "fcd74744",
   "metadata": {},
   "source": [
    "#### 4.4.Вопрос: Как разные цели кредита влияют на его возврат в срок?"
   ]
  },
  {
   "cell_type": "code",
   "execution_count": 47,
   "id": "12f4e387",
   "metadata": {
    "ExecuteTime": {
     "end_time": "2022-10-02T16:14:24.496051Z",
     "start_time": "2022-10-02T16:14:24.457497Z"
    }
   },
   "outputs": [
    {
     "data": {
      "text/html": [
       "<div>\n",
       "<style scoped>\n",
       "    .dataframe tbody tr th:only-of-type {\n",
       "        vertical-align: middle;\n",
       "    }\n",
       "\n",
       "    .dataframe tbody tr th {\n",
       "        vertical-align: top;\n",
       "    }\n",
       "\n",
       "    .dataframe thead tr th {\n",
       "        text-align: left;\n",
       "    }\n",
       "\n",
       "    .dataframe thead tr:last-of-type th {\n",
       "        text-align: right;\n",
       "    }\n",
       "</style>\n",
       "<table border=\"1\" class=\"dataframe\">\n",
       "  <thead>\n",
       "    <tr>\n",
       "      <th></th>\n",
       "      <th>sum</th>\n",
       "      <th>count</th>\n",
       "      <th>mean</th>\n",
       "    </tr>\n",
       "    <tr>\n",
       "      <th></th>\n",
       "      <th>debt</th>\n",
       "      <th>debt</th>\n",
       "      <th>debt</th>\n",
       "    </tr>\n",
       "    <tr>\n",
       "      <th>purpose_category</th>\n",
       "      <th></th>\n",
       "      <th></th>\n",
       "      <th></th>\n",
       "    </tr>\n",
       "  </thead>\n",
       "  <tbody>\n",
       "    <tr>\n",
       "      <th>операции с недвижимостью</th>\n",
       "      <td>782</td>\n",
       "      <td>10811</td>\n",
       "      <td>0.072334</td>\n",
       "    </tr>\n",
       "    <tr>\n",
       "      <th>проведение свадьбы</th>\n",
       "      <td>186</td>\n",
       "      <td>2324</td>\n",
       "      <td>0.080034</td>\n",
       "    </tr>\n",
       "    <tr>\n",
       "      <th>получение образования</th>\n",
       "      <td>370</td>\n",
       "      <td>4013</td>\n",
       "      <td>0.092200</td>\n",
       "    </tr>\n",
       "    <tr>\n",
       "      <th>операции с автомобилем</th>\n",
       "      <td>403</td>\n",
       "      <td>4306</td>\n",
       "      <td>0.093590</td>\n",
       "    </tr>\n",
       "  </tbody>\n",
       "</table>\n",
       "</div>"
      ],
      "text/plain": [
       "                          sum  count      mean\n",
       "                         debt   debt      debt\n",
       "purpose_category                              \n",
       "операции с недвижимостью  782  10811  0.072334\n",
       "проведение свадьбы        186   2324  0.080034\n",
       "получение образования     370   4013  0.092200\n",
       "операции с автомобилем    403   4306  0.093590"
      ]
     },
     "execution_count": 47,
     "metadata": {},
     "output_type": "execute_result"
    }
   ],
   "source": [
    "# построим сводную таблицу для ответа на вопрос\n",
    "data_pivot_purpose = df.pivot_table(index=['purpose_category'], values=[\"debt\"], aggfunc=['sum', 'count', \"mean\"])\n",
    "# сортируем:\n",
    "data_pivot_purpose = data_pivot_purpose.sort_values(by=('mean', 'debt'))\n",
    "data_pivot_purpose"
   ]
  },
  {
   "cell_type": "markdown",
   "id": "87404b99",
   "metadata": {},
   "source": [
    "Вывод:  \n",
    "Выгоднее всего давать кредиты на недвижимость, а автомобиль и образование - более рисковые виды кредита. Хотя разница не такая уж большая, но стоит того, чтобы учесть ее при расчете риска невозврата кредита."
   ]
  },
  {
   "cell_type": "markdown",
   "id": "397edbe3",
   "metadata": {},
   "source": [
    "#### 4.5.Вопрос (bonus): Как пол заемщика влияет на его возврат в срок?"
   ]
  },
  {
   "cell_type": "code",
   "execution_count": 48,
   "id": "9df3b588",
   "metadata": {
    "ExecuteTime": {
     "end_time": "2022-10-02T16:14:27.921002Z",
     "start_time": "2022-10-02T16:14:27.885229Z"
    }
   },
   "outputs": [
    {
     "data": {
      "text/html": [
       "<div>\n",
       "<style scoped>\n",
       "    .dataframe tbody tr th:only-of-type {\n",
       "        vertical-align: middle;\n",
       "    }\n",
       "\n",
       "    .dataframe tbody tr th {\n",
       "        vertical-align: top;\n",
       "    }\n",
       "\n",
       "    .dataframe thead tr th {\n",
       "        text-align: left;\n",
       "    }\n",
       "\n",
       "    .dataframe thead tr:last-of-type th {\n",
       "        text-align: right;\n",
       "    }\n",
       "</style>\n",
       "<table border=\"1\" class=\"dataframe\">\n",
       "  <thead>\n",
       "    <tr>\n",
       "      <th></th>\n",
       "      <th>sum</th>\n",
       "      <th>count</th>\n",
       "      <th>mean</th>\n",
       "    </tr>\n",
       "    <tr>\n",
       "      <th></th>\n",
       "      <th>debt</th>\n",
       "      <th>debt</th>\n",
       "      <th>debt</th>\n",
       "    </tr>\n",
       "    <tr>\n",
       "      <th>gender</th>\n",
       "      <th></th>\n",
       "      <th></th>\n",
       "      <th></th>\n",
       "    </tr>\n",
       "  </thead>\n",
       "  <tbody>\n",
       "    <tr>\n",
       "      <th>F</th>\n",
       "      <td>994</td>\n",
       "      <td>14175</td>\n",
       "      <td>0.070123</td>\n",
       "    </tr>\n",
       "    <tr>\n",
       "      <th>M</th>\n",
       "      <td>747</td>\n",
       "      <td>7279</td>\n",
       "      <td>0.102624</td>\n",
       "    </tr>\n",
       "  </tbody>\n",
       "</table>\n",
       "</div>"
      ],
      "text/plain": [
       "        sum  count      mean\n",
       "       debt   debt      debt\n",
       "gender                      \n",
       "F       994  14175  0.070123\n",
       "M       747   7279  0.102624"
      ]
     },
     "execution_count": 48,
     "metadata": {},
     "output_type": "execute_result"
    }
   ],
   "source": [
    "# построим сводную таблицу для ответа на вопрос\n",
    "data_pivot_gender = df.pivot_table(index=['gender'], values=[\"debt\"], aggfunc=['sum', 'count', \"mean\"])\n",
    "# сортируем\n",
    "data_pivot_gender = data_pivot_gender.sort_values(by=('mean', 'debt'))\n",
    "data_pivot_gender"
   ]
  },
  {
   "cell_type": "markdown",
   "id": "7e1bb1fe",
   "metadata": {},
   "source": [
    "Вывод:  \n",
    "Выгоднее всего давать кредиты женщинам, они лучше дисциплинированы и процент просрочки ниже."
   ]
  },
  {
   "cell_type": "markdown",
   "id": "8ee1e639",
   "metadata": {},
   "source": [
    "#### 4.6.Вопрос (bonus): Как род занятия заемщика влияет на его возврат в срок?"
   ]
  },
  {
   "cell_type": "code",
   "execution_count": 49,
   "id": "358263cc",
   "metadata": {
    "ExecuteTime": {
     "end_time": "2022-10-02T16:14:31.169097Z",
     "start_time": "2022-10-02T16:14:31.134066Z"
    }
   },
   "outputs": [
    {
     "data": {
      "text/html": [
       "<div>\n",
       "<style scoped>\n",
       "    .dataframe tbody tr th:only-of-type {\n",
       "        vertical-align: middle;\n",
       "    }\n",
       "\n",
       "    .dataframe tbody tr th {\n",
       "        vertical-align: top;\n",
       "    }\n",
       "\n",
       "    .dataframe thead tr th {\n",
       "        text-align: left;\n",
       "    }\n",
       "\n",
       "    .dataframe thead tr:last-of-type th {\n",
       "        text-align: right;\n",
       "    }\n",
       "</style>\n",
       "<table border=\"1\" class=\"dataframe\">\n",
       "  <thead>\n",
       "    <tr>\n",
       "      <th></th>\n",
       "      <th>sum</th>\n",
       "      <th>count</th>\n",
       "      <th>mean</th>\n",
       "    </tr>\n",
       "    <tr>\n",
       "      <th></th>\n",
       "      <th>debt</th>\n",
       "      <th>debt</th>\n",
       "      <th>debt</th>\n",
       "    </tr>\n",
       "    <tr>\n",
       "      <th>income_type</th>\n",
       "      <th></th>\n",
       "      <th></th>\n",
       "      <th></th>\n",
       "    </tr>\n",
       "  </thead>\n",
       "  <tbody>\n",
       "    <tr>\n",
       "      <th>предприниматель</th>\n",
       "      <td>0</td>\n",
       "      <td>2</td>\n",
       "      <td>0.000000</td>\n",
       "    </tr>\n",
       "    <tr>\n",
       "      <th>студент</th>\n",
       "      <td>0</td>\n",
       "      <td>1</td>\n",
       "      <td>0.000000</td>\n",
       "    </tr>\n",
       "    <tr>\n",
       "      <th>пенсионер</th>\n",
       "      <td>216</td>\n",
       "      <td>3829</td>\n",
       "      <td>0.056412</td>\n",
       "    </tr>\n",
       "    <tr>\n",
       "      <th>госслужащий</th>\n",
       "      <td>86</td>\n",
       "      <td>1457</td>\n",
       "      <td>0.059025</td>\n",
       "    </tr>\n",
       "    <tr>\n",
       "      <th>компаньон</th>\n",
       "      <td>376</td>\n",
       "      <td>5078</td>\n",
       "      <td>0.074045</td>\n",
       "    </tr>\n",
       "    <tr>\n",
       "      <th>сотрудник</th>\n",
       "      <td>1061</td>\n",
       "      <td>11084</td>\n",
       "      <td>0.095724</td>\n",
       "    </tr>\n",
       "    <tr>\n",
       "      <th>безработный</th>\n",
       "      <td>1</td>\n",
       "      <td>2</td>\n",
       "      <td>0.500000</td>\n",
       "    </tr>\n",
       "    <tr>\n",
       "      <th>в декрете</th>\n",
       "      <td>1</td>\n",
       "      <td>1</td>\n",
       "      <td>1.000000</td>\n",
       "    </tr>\n",
       "  </tbody>\n",
       "</table>\n",
       "</div>"
      ],
      "text/plain": [
       "                  sum  count      mean\n",
       "                 debt   debt      debt\n",
       "income_type                           \n",
       "предприниматель     0      2  0.000000\n",
       "студент             0      1  0.000000\n",
       "пенсионер         216   3829  0.056412\n",
       "госслужащий        86   1457  0.059025\n",
       "компаньон         376   5078  0.074045\n",
       "сотрудник        1061  11084  0.095724\n",
       "безработный         1      2  0.500000\n",
       "в декрете           1      1  1.000000"
      ]
     },
     "execution_count": 49,
     "metadata": {},
     "output_type": "execute_result"
    }
   ],
   "source": [
    "# построим сводную таблицу для ответа на вопрос\n",
    "data_pivot_type = df.pivot_table(index=['income_type'], values=[\"debt\"], aggfunc=['sum', 'count', \"mean\"])\n",
    "# сортируем\n",
    "data_pivot_type = data_pivot_type.sort_values(by=('mean', 'debt'))\n",
    "data_pivot_type"
   ]
  },
  {
   "cell_type": "markdown",
   "id": "121787b1",
   "metadata": {
    "ExecuteTime": {
     "end_time": "2022-03-06T15:26:45.420170Z",
     "start_time": "2022-03-06T15:26:45.416577Z"
    }
   },
   "source": [
    "Вывод:  \n",
    "Выгоднее всего давать кредиты пенсионерам и госслужащим, у них просрочки мало (наверное связано со стабильным доходом).\n",
    "У студентов и предпринимателей  - вообще просрочка нулевая, а в декрете и безработным лучше вообще не давать!) Шутка, данные по этим категориям нерепрезентативны в силу малочисленности выборки по этим категориям. Можно лишь говорить об обьективной оценке категорий \"сотрудник\", \"компаньон\", \"пенсионер\" и \"госслужащий\"."
   ]
  },
  {
   "cell_type": "markdown",
   "id": "7f12cba1",
   "metadata": {},
   "source": [
    "### 5. Общий вывод"
   ]
  },
  {
   "cell_type": "markdown",
   "id": "54b6a8e1",
   "metadata": {},
   "source": [
    "Самый идеальный заемщик - это человек без детей или имеющий 5 детей, состоящий или состоявший в официальных отношениях, имеющий уровень дохода выше среднего и берущий деньги на недвижимость.\n",
    "\n",
    "\"Разброс\" просроченных выплат по каждой из категорий примерно одинаковый. В среднем, это диапазоны от 6 до 9 процентов. В остальном разница в абсолютных цифрах не такая большая. Однако в относительных разница составляет в среднем 2-3 процента, что означает разницу в вероятности просрочки платежа на 20% и более.\n",
    "\n",
    "Детально по категориям:\n",
    "Влияние наличия детей на вероятность просрочки платежа\n",
    "Интересное наблюдение: у семей с 5 детей - нулевая просрочка (хотя таких случаев всего 9 и это не показатель), и это можно было бы взять на заметку.\n",
    "\n",
    "По наличию детей\n",
    "Нет детей - 7.54%\n",
    "1 ребенок - 9.17%\n",
    "2 ребенка - 9.49%\n",
    "3 ребенка - 9.49%\n",
    "4 ребенка - 9.49%\n",
    "5 ребенка - 0%\n",
    "Абсолютная разница между \"нет детей\" и \"4 ребенка\" - 1.95%\n",
    "Относительная разница между \"нет детей\" и \"4 ребенка\" - 20.54%\n",
    "\n",
    "Влияние семейного положения на вероятность просрочки платежа\n",
    "По семейному положению\n",
    "вдовец / вдова - 6.57%\n",
    "в разводе - 7.11%\n",
    "женат / замужем - 7.55%\n",
    "гражданский брак - 9.35%\n",
    "не женат / не замужем - 9.75%\n",
    "Абсолютная разница между минимальным и максимальным значением - 3.18%\n",
    "Относительная разница между минимальным и максимальным значением - 32,6%\n",
    "\n",
    "Влияние уровня дохода на просрочку платежа\n",
    "По уровню дохода\n",
    "До 30000 - 9.09%\n",
    "От 30001 до 50000 - 6.00%\n",
    "От 50001 до 200000 - 8.54%\n",
    "От 200001 до 1000000 - 6.96%\n",
    "От 1000001  - 8.0%\n",
    "Абсолютная разница между минимальным и максимальным значением - 3.09%\n",
    "Относительная разница между минимальным и максимальным значением - 51.5%\n",
    "\n",
    "Влияние цели кредита на вероятность возврата кредита в срок\n",
    "По цели кредита\n",
    "недвижимость - 7.23%\n",
    "свадьба - 8.0%\n",
    "образование - 9.22%\n",
    "автомобиль - 9.36%\n",
    "Абсолютная разница между минимальным и максимальным значением - 2.13%\n",
    "Относительная разница между минимальным и максимальным значением - 22.76%\n",
    "\n",
    "Влияние пола заемщика на вероятность возврата кредита в срок\n",
    "женщины - 7.01%\n",
    "мужчины - 10.3%\n",
    "Абсолютная разница между минимальным и максимальным значением - 3.29%\n",
    "Относительная разница между минимальным и максимальным значением - 46.93%\n",
    "\n",
    "Влияние рода занятия на вероятность возврата кредита в срок\n",
    " \n",
    "предприниматель - 0.00%\n",
    "студент\t- 0.00%\n",
    "пенсионер -\t5.64%\n",
    "госслужащий\t- 5.90%\n",
    "компаньон - 7.40%\n",
    "сотрудник - 9.57%\n",
    "безработный\t - 50.0%\n",
    "в декрете -100%\n",
    "\n",
    "Для анализа честно будет учитывать только категории пенсионер,госслужащий,компаньон,сотрудник\n",
    "Абсолютная разница между минимальным и максимальным значением - 3.93%\n",
    "Относительная разница между минимальным и максимальным значением - 69.7%\n",
    "\n",
    "Таким образом, несмотря на схожий в процентном отношении разброс значений, наибольшее влияние на вероятность просрочки показывает именно семейное положение. Во вторую очередь, следует обращать внимание на уровень дохода. Наименьшее влияние оказывают цели кредита и наличие детей.\n",
    "Из сильных факторов можно также отметить пол заемщика и род деятельности, но они не являются темой нашего иследования."
   ]
  }
 ],
 "metadata": {
  "kernelspec": {
   "display_name": "Python 3 (ipykernel)",
   "language": "python",
   "name": "python3"
  },
  "language_info": {
   "codemirror_mode": {
    "name": "ipython",
    "version": 3
   },
   "file_extension": ".py",
   "mimetype": "text/x-python",
   "name": "python",
   "nbconvert_exporter": "python",
   "pygments_lexer": "ipython3",
   "version": "3.8.13"
  },
  "toc": {
   "base_numbering": 1,
   "nav_menu": {},
   "number_sections": true,
   "sideBar": true,
   "skip_h1_title": true,
   "title_cell": "Table of Contents",
   "title_sidebar": "Contents",
   "toc_cell": false,
   "toc_position": {},
   "toc_section_display": true,
   "toc_window_display": true
  }
 },
 "nbformat": 4,
 "nbformat_minor": 5
}
